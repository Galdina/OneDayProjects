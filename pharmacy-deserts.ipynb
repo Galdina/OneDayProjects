{
 "cells": [
  {
   "cell_type": "markdown",
   "metadata": {},
   "source": [
    "# Quantifying Pharmacy Deserts with Xarray-spatial\n",
    "\n",
    "In this notebook, we'll demonstrate using Xarray-spatial to find and map the locations of pharmacy deserts in the USA."
   ]
  },
  {
   "cell_type": "markdown",
   "metadata": {},
   "source": [
    "### Setup:\n",
    "\n",
    "First, we'll import some basic data and geospatial data-related packages. We'll also bring in some datashader functions for aggregation and rendering. And, finally, we'll import the Xarray-spatial functions we'll be using. "
   ]
  },
  {
   "cell_type": "code",
   "execution_count": 3,
   "metadata": {},
   "outputs": [
    {
     "name": "stdout",
     "output_type": "stream",
     "text": [
      "Requirement already satisfied: geopandas in /Users/marigaldina/opt/anaconda3/lib/python3.7/site-packages (0.8.1)\n",
      "Requirement already satisfied: pyproj>=2.2.0 in /Users/marigaldina/opt/anaconda3/lib/python3.7/site-packages (from geopandas) (3.0.0.post1)\n",
      "Requirement already satisfied: fiona in /Users/marigaldina/opt/anaconda3/lib/python3.7/site-packages (from geopandas) (1.8.18)\n",
      "Requirement already satisfied: shapely in /Users/marigaldina/opt/anaconda3/lib/python3.7/site-packages (from geopandas) (1.7.1)\n",
      "Requirement already satisfied: pandas>=0.23.0 in /Users/marigaldina/opt/anaconda3/lib/python3.7/site-packages (from geopandas) (1.2.3)\n",
      "Requirement already satisfied: python-dateutil>=2.7.3 in /Users/marigaldina/opt/anaconda3/lib/python3.7/site-packages (from pandas>=0.23.0->geopandas) (2.8.0)\n",
      "Requirement already satisfied: pytz>=2017.3 in /Users/marigaldina/opt/anaconda3/lib/python3.7/site-packages (from pandas>=0.23.0->geopandas) (2019.3)\n",
      "Requirement already satisfied: numpy>=1.16.5 in /Users/marigaldina/opt/anaconda3/lib/python3.7/site-packages (from pandas>=0.23.0->geopandas) (1.19.2)\n",
      "Requirement already satisfied: certifi in /Users/marigaldina/opt/anaconda3/lib/python3.7/site-packages (from pyproj>=2.2.0->geopandas) (2019.9.11)\n",
      "Requirement already satisfied: six>=1.5 in /Users/marigaldina/opt/anaconda3/lib/python3.7/site-packages (from python-dateutil>=2.7.3->pandas>=0.23.0->geopandas) (1.12.0)\n",
      "Requirement already satisfied: click<8,>=4.0 in /Users/marigaldina/opt/anaconda3/lib/python3.7/site-packages (from fiona->geopandas) (7.0)\n",
      "Requirement already satisfied: munch in /Users/marigaldina/opt/anaconda3/lib/python3.7/site-packages (from fiona->geopandas) (2.5.0)\n",
      "Requirement already satisfied: click-plugins>=1.0 in /Users/marigaldina/opt/anaconda3/lib/python3.7/site-packages (from fiona->geopandas) (1.1.1)\n",
      "Requirement already satisfied: cligj>=0.5 in /Users/marigaldina/opt/anaconda3/lib/python3.7/site-packages (from fiona->geopandas) (0.7.1)\n",
      "Requirement already satisfied: attrs>=17 in /Users/marigaldina/opt/anaconda3/lib/python3.7/site-packages (from fiona->geopandas) (19.2.0)\n",
      "\u001b[33mWARNING: You are using pip version 21.0.1; however, version 21.1.2 is available.\n",
      "You should consider upgrading via the '/Users/marigaldina/opt/anaconda3/bin/python -m pip install --upgrade pip' command.\u001b[0m\n"
     ]
    }
   ],
   "source": [
    "#!pip install geopandas"
   ]
  },
  {
   "cell_type": "code",
   "execution_count": 4,
   "metadata": {},
   "outputs": [
    {
     "name": "stdout",
     "output_type": "stream",
     "text": [
      "Requirement already satisfied: pip in /Users/marigaldina/opt/anaconda3/lib/python3.7/site-packages (21.0.1)\n",
      "Collecting pip\n",
      "  Downloading pip-21.1.2-py3-none-any.whl (1.5 MB)\n",
      "\u001b[K     |████████████████████████████████| 1.5 MB 4.2 MB/s eta 0:00:01\n",
      "\u001b[?25hInstalling collected packages: pip\n",
      "  Attempting uninstall: pip\n",
      "    Found existing installation: pip 21.0.1\n",
      "    Uninstalling pip-21.0.1:\n",
      "      Successfully uninstalled pip-21.0.1\n",
      "Successfully installed pip-21.1.2\n"
     ]
    }
   ],
   "source": [
    "!pip install --upgrade pip"
   ]
  },
  {
   "cell_type": "code",
   "execution_count": 5,
   "metadata": {},
   "outputs": [
    {
     "name": "stdout",
     "output_type": "stream",
     "text": [
      "Collecting spatialpandas\n",
      "  Downloading spatialpandas-0.4.0-py2.py3-none-any.whl (77 kB)\n",
      "\u001b[K     |████████████████████████████████| 77 kB 1.7 MB/s eta 0:00:011\n",
      "\u001b[?25hRequirement already satisfied: numba in /Users/marigaldina/opt/anaconda3/lib/python3.7/site-packages (from spatialpandas) (0.45.1)\n",
      "Requirement already satisfied: fsspec in /Users/marigaldina/opt/anaconda3/lib/python3.7/site-packages (from spatialpandas) (0.5.2)\n",
      "Collecting python-snappy\n",
      "  Downloading python_snappy-0.6.0-cp37-cp37m-macosx_10_9_x86_64.whl (45 kB)\n",
      "\u001b[K     |████████████████████████████████| 45 kB 4.0 MB/s  eta 0:00:01\n",
      "\u001b[?25hRequirement already satisfied: numpy in /Users/marigaldina/opt/anaconda3/lib/python3.7/site-packages (from spatialpandas) (1.19.2)\n",
      "Requirement already satisfied: pandas>=0.25 in /Users/marigaldina/opt/anaconda3/lib/python3.7/site-packages (from spatialpandas) (1.2.3)\n",
      "Collecting pyarrow>=0.15\n",
      "  Downloading pyarrow-4.0.1-cp37-cp37m-macosx_10_13_x86_64.whl (15.7 MB)\n",
      "\u001b[K     |████████████████████████████████| 15.7 MB 10.3 MB/s eta 0:00:01\n",
      "\u001b[?25hRequirement already satisfied: retrying in /Users/marigaldina/opt/anaconda3/lib/python3.7/site-packages (from spatialpandas) (1.3.3)\n",
      "Requirement already satisfied: dask[complete]>=2.0 in /Users/marigaldina/opt/anaconda3/lib/python3.7/site-packages (from spatialpandas) (2.5.2)\n",
      "Requirement already satisfied: param in /Users/marigaldina/opt/anaconda3/lib/python3.7/site-packages (from spatialpandas) (1.10.1)\n",
      "Requirement already satisfied: distributed>=2.0 in /Users/marigaldina/opt/anaconda3/lib/python3.7/site-packages (from dask[complete]>=2.0->spatialpandas) (2.5.2)\n",
      "Requirement already satisfied: partd>=0.3.10 in /Users/marigaldina/opt/anaconda3/lib/python3.7/site-packages (from dask[complete]>=2.0->spatialpandas) (1.0.0)\n",
      "Requirement already satisfied: bokeh>=1.0.0 in /Users/marigaldina/opt/anaconda3/lib/python3.7/site-packages (from dask[complete]>=2.0->spatialpandas) (2.2.3)\n",
      "Requirement already satisfied: cloudpickle>=0.2.1 in /Users/marigaldina/opt/anaconda3/lib/python3.7/site-packages (from dask[complete]>=2.0->spatialpandas) (1.2.2)\n",
      "Requirement already satisfied: toolz>=0.7.3 in /Users/marigaldina/opt/anaconda3/lib/python3.7/site-packages (from dask[complete]>=2.0->spatialpandas) (0.10.0)\n",
      "Requirement already satisfied: tornado>=5.1 in /Users/marigaldina/opt/anaconda3/lib/python3.7/site-packages (from bokeh>=1.0.0->dask[complete]>=2.0->spatialpandas) (6.0.3)\n",
      "Requirement already satisfied: python-dateutil>=2.1 in /Users/marigaldina/opt/anaconda3/lib/python3.7/site-packages (from bokeh>=1.0.0->dask[complete]>=2.0->spatialpandas) (2.8.0)\n",
      "Requirement already satisfied: Jinja2>=2.7 in /Users/marigaldina/opt/anaconda3/lib/python3.7/site-packages (from bokeh>=1.0.0->dask[complete]>=2.0->spatialpandas) (2.10.3)\n",
      "Requirement already satisfied: pillow>=7.1.0 in /Users/marigaldina/opt/anaconda3/lib/python3.7/site-packages (from bokeh>=1.0.0->dask[complete]>=2.0->spatialpandas) (8.1.0)\n",
      "Requirement already satisfied: packaging>=16.8 in /Users/marigaldina/opt/anaconda3/lib/python3.7/site-packages (from bokeh>=1.0.0->dask[complete]>=2.0->spatialpandas) (19.2)\n",
      "Requirement already satisfied: PyYAML>=3.10 in /Users/marigaldina/opt/anaconda3/lib/python3.7/site-packages (from bokeh>=1.0.0->dask[complete]>=2.0->spatialpandas) (5.1.2)\n",
      "Requirement already satisfied: typing-extensions>=3.7.4 in /Users/marigaldina/opt/anaconda3/lib/python3.7/site-packages (from bokeh>=1.0.0->dask[complete]>=2.0->spatialpandas) (3.7.4.3)\n",
      "Requirement already satisfied: psutil>=5.0 in /Users/marigaldina/opt/anaconda3/lib/python3.7/site-packages (from distributed>=2.0->dask[complete]>=2.0->spatialpandas) (5.6.3)\n",
      "Requirement already satisfied: click>=6.6 in /Users/marigaldina/opt/anaconda3/lib/python3.7/site-packages (from distributed>=2.0->dask[complete]>=2.0->spatialpandas) (7.0)\n",
      "Requirement already satisfied: sortedcontainers!=2.0.0,!=2.0.1 in /Users/marigaldina/opt/anaconda3/lib/python3.7/site-packages (from distributed>=2.0->dask[complete]>=2.0->spatialpandas) (2.1.0)\n",
      "Requirement already satisfied: zict>=0.1.3 in /Users/marigaldina/opt/anaconda3/lib/python3.7/site-packages (from distributed>=2.0->dask[complete]>=2.0->spatialpandas) (1.0.0)\n",
      "Requirement already satisfied: msgpack in /Users/marigaldina/opt/anaconda3/lib/python3.7/site-packages (from distributed>=2.0->dask[complete]>=2.0->spatialpandas) (0.6.1)\n",
      "Requirement already satisfied: tblib in /Users/marigaldina/opt/anaconda3/lib/python3.7/site-packages (from distributed>=2.0->dask[complete]>=2.0->spatialpandas) (1.4.0)\n",
      "Requirement already satisfied: MarkupSafe>=0.23 in /Users/marigaldina/opt/anaconda3/lib/python3.7/site-packages (from Jinja2>=2.7->bokeh>=1.0.0->dask[complete]>=2.0->spatialpandas) (1.1.1)\n",
      "Requirement already satisfied: pyparsing>=2.0.2 in /Users/marigaldina/opt/anaconda3/lib/python3.7/site-packages (from packaging>=16.8->bokeh>=1.0.0->dask[complete]>=2.0->spatialpandas) (2.4.2)\n",
      "Requirement already satisfied: six in /Users/marigaldina/opt/anaconda3/lib/python3.7/site-packages (from packaging>=16.8->bokeh>=1.0.0->dask[complete]>=2.0->spatialpandas) (1.12.0)\n",
      "Requirement already satisfied: pytz>=2017.3 in /Users/marigaldina/opt/anaconda3/lib/python3.7/site-packages (from pandas>=0.25->spatialpandas) (2019.3)\n",
      "Requirement already satisfied: locket in /Users/marigaldina/opt/anaconda3/lib/python3.7/site-packages (from partd>=0.3.10->dask[complete]>=2.0->spatialpandas) (0.2.0)\n",
      "Requirement already satisfied: heapdict in /Users/marigaldina/opt/anaconda3/lib/python3.7/site-packages (from zict>=0.1.3->distributed>=2.0->dask[complete]>=2.0->spatialpandas) (1.0.1)\n",
      "Requirement already satisfied: llvmlite>=0.29.0dev0 in /Users/marigaldina/opt/anaconda3/lib/python3.7/site-packages (from numba->spatialpandas) (0.29.0)\n",
      "Installing collected packages: python-snappy, pyarrow, spatialpandas\n",
      "Successfully installed pyarrow-4.0.1 python-snappy-0.6.0 spatialpandas-0.4.0\n"
     ]
    }
   ],
   "source": [
    "!pip install spatialpandas"
   ]
  },
  {
   "cell_type": "code",
   "execution_count": 7,
   "metadata": {},
   "outputs": [
    {
     "name": "stdout",
     "output_type": "stream",
     "text": [
      "Collecting datashader\n",
      "  Downloading datashader-0.12.1-py2.py3-none-any.whl (15.8 MB)\n",
      "\u001b[K     |████████████████████████████████| 15.8 MB 4.3 MB/s eta 0:00:01    |█████████▉                      | 4.9 MB 4.3 MB/s eta 0:00:03\n",
      "\u001b[?25hRequirement already satisfied: pyct>=0.4.4 in /Users/marigaldina/opt/anaconda3/lib/python3.7/site-packages (from datashader) (0.4.8)\n",
      "Requirement already satisfied: dask[complete]>=0.18.0 in /Users/marigaldina/opt/anaconda3/lib/python3.7/site-packages (from datashader) (2.5.2)\n",
      "Requirement already satisfied: scipy in /Users/marigaldina/opt/anaconda3/lib/python3.7/site-packages (from datashader) (1.4.1)\n",
      "Requirement already satisfied: toolz>=0.7.4 in /Users/marigaldina/opt/anaconda3/lib/python3.7/site-packages (from datashader) (0.10.0)\n",
      "Requirement already satisfied: pandas>=0.24.1 in /Users/marigaldina/opt/anaconda3/lib/python3.7/site-packages (from datashader) (1.2.3)\n",
      "Collecting datashape>=0.5.1\n",
      "  Downloading datashape-0.5.2.tar.gz (76 kB)\n",
      "\u001b[K     |████████████████████████████████| 76 kB 2.7 MB/s eta 0:00:01\n",
      "\u001b[?25hRequirement already satisfied: bokeh in /Users/marigaldina/opt/anaconda3/lib/python3.7/site-packages (from datashader) (2.2.3)\n",
      "Requirement already satisfied: param>=1.6.0 in /Users/marigaldina/opt/anaconda3/lib/python3.7/site-packages (from datashader) (1.10.1)\n",
      "Requirement already satisfied: colorcet>=0.9.0 in /Users/marigaldina/opt/anaconda3/lib/python3.7/site-packages (from datashader) (2.0.6)\n",
      "Requirement already satisfied: pillow>=3.1.1 in /Users/marigaldina/opt/anaconda3/lib/python3.7/site-packages (from datashader) (8.1.0)\n",
      "Requirement already satisfied: xarray>=0.9.6 in /Users/marigaldina/opt/anaconda3/lib/python3.7/site-packages (from datashader) (0.15.0)\n",
      "Requirement already satisfied: numba!=0.49.*,!=0.50.*,>=0.37.0 in /Users/marigaldina/opt/anaconda3/lib/python3.7/site-packages (from datashader) (0.45.1)\n",
      "Requirement already satisfied: numpy>=1.7 in /Users/marigaldina/opt/anaconda3/lib/python3.7/site-packages (from datashader) (1.19.2)\n",
      "Requirement already satisfied: cloudpickle>=0.2.1 in /Users/marigaldina/opt/anaconda3/lib/python3.7/site-packages (from dask[complete]>=0.18.0->datashader) (1.2.2)\n",
      "Requirement already satisfied: partd>=0.3.10 in /Users/marigaldina/opt/anaconda3/lib/python3.7/site-packages (from dask[complete]>=0.18.0->datashader) (1.0.0)\n",
      "Requirement already satisfied: distributed>=2.0 in /Users/marigaldina/opt/anaconda3/lib/python3.7/site-packages (from dask[complete]>=0.18.0->datashader) (2.5.2)\n",
      "Requirement already satisfied: fsspec>=0.5.1 in /Users/marigaldina/opt/anaconda3/lib/python3.7/site-packages (from dask[complete]>=0.18.0->datashader) (0.5.2)\n",
      "Requirement already satisfied: Jinja2>=2.7 in /Users/marigaldina/opt/anaconda3/lib/python3.7/site-packages (from bokeh->datashader) (2.10.3)\n",
      "Requirement already satisfied: tornado>=5.1 in /Users/marigaldina/opt/anaconda3/lib/python3.7/site-packages (from bokeh->datashader) (6.0.3)\n",
      "Requirement already satisfied: PyYAML>=3.10 in /Users/marigaldina/opt/anaconda3/lib/python3.7/site-packages (from bokeh->datashader) (5.1.2)\n",
      "Requirement already satisfied: packaging>=16.8 in /Users/marigaldina/opt/anaconda3/lib/python3.7/site-packages (from bokeh->datashader) (19.2)\n",
      "Requirement already satisfied: typing-extensions>=3.7.4 in /Users/marigaldina/opt/anaconda3/lib/python3.7/site-packages (from bokeh->datashader) (3.7.4.3)\n",
      "Requirement already satisfied: python-dateutil>=2.1 in /Users/marigaldina/opt/anaconda3/lib/python3.7/site-packages (from bokeh->datashader) (2.8.0)\n",
      "Requirement already satisfied: multipledispatch>=0.4.7 in /Users/marigaldina/opt/anaconda3/lib/python3.7/site-packages (from datashape>=0.5.1->datashader) (0.6.0)\n",
      "Requirement already satisfied: msgpack in /Users/marigaldina/opt/anaconda3/lib/python3.7/site-packages (from distributed>=2.0->dask[complete]>=0.18.0->datashader) (0.6.1)\n",
      "Requirement already satisfied: sortedcontainers!=2.0.0,!=2.0.1 in /Users/marigaldina/opt/anaconda3/lib/python3.7/site-packages (from distributed>=2.0->dask[complete]>=0.18.0->datashader) (2.1.0)\n",
      "Requirement already satisfied: psutil>=5.0 in /Users/marigaldina/opt/anaconda3/lib/python3.7/site-packages (from distributed>=2.0->dask[complete]>=0.18.0->datashader) (5.6.3)\n",
      "Requirement already satisfied: zict>=0.1.3 in /Users/marigaldina/opt/anaconda3/lib/python3.7/site-packages (from distributed>=2.0->dask[complete]>=0.18.0->datashader) (1.0.0)\n",
      "Requirement already satisfied: tblib in /Users/marigaldina/opt/anaconda3/lib/python3.7/site-packages (from distributed>=2.0->dask[complete]>=0.18.0->datashader) (1.4.0)\n",
      "Requirement already satisfied: click>=6.6 in /Users/marigaldina/opt/anaconda3/lib/python3.7/site-packages (from distributed>=2.0->dask[complete]>=0.18.0->datashader) (7.0)\n",
      "Requirement already satisfied: MarkupSafe>=0.23 in /Users/marigaldina/opt/anaconda3/lib/python3.7/site-packages (from Jinja2>=2.7->bokeh->datashader) (1.1.1)\n",
      "Requirement already satisfied: six in /Users/marigaldina/opt/anaconda3/lib/python3.7/site-packages (from multipledispatch>=0.4.7->datashape>=0.5.1->datashader) (1.12.0)\n",
      "Requirement already satisfied: llvmlite>=0.29.0dev0 in /Users/marigaldina/opt/anaconda3/lib/python3.7/site-packages (from numba!=0.49.*,!=0.50.*,>=0.37.0->datashader) (0.29.0)\n",
      "Requirement already satisfied: pyparsing>=2.0.2 in /Users/marigaldina/opt/anaconda3/lib/python3.7/site-packages (from packaging>=16.8->bokeh->datashader) (2.4.2)\n",
      "Requirement already satisfied: pytz>=2017.3 in /Users/marigaldina/opt/anaconda3/lib/python3.7/site-packages (from pandas>=0.24.1->datashader) (2019.3)\n",
      "Requirement already satisfied: locket in /Users/marigaldina/opt/anaconda3/lib/python3.7/site-packages (from partd>=0.3.10->dask[complete]>=0.18.0->datashader) (0.2.0)\n",
      "Requirement already satisfied: heapdict in /Users/marigaldina/opt/anaconda3/lib/python3.7/site-packages (from zict>=0.1.3->distributed>=2.0->dask[complete]>=0.18.0->datashader) (1.0.1)\n",
      "Building wheels for collected packages: datashape\n",
      "  Building wheel for datashape (setup.py) ... \u001b[?25ldone\n",
      "\u001b[?25h  Created wheel for datashape: filename=datashape-0.5.2-py3-none-any.whl size=59428 sha256=06a59ef9dac3c0df8d57be8e4489fab25ef9ec7bc11150ff60c6010e328ae7a5\n",
      "  Stored in directory: /Users/marigaldina/Library/Caches/pip/wheels/b5/b7/80/333a5c3312ed4cd54f5d5b869868c14e0c6002cb5c7238b52d\n",
      "Successfully built datashape\n",
      "Installing collected packages: datashape, datashader\n",
      "Successfully installed datashader-0.12.1 datashape-0.5.2\n"
     ]
    }
   ],
   "source": [
    "!pip install datashader"
   ]
  },
  {
   "cell_type": "code",
   "execution_count": 8,
   "metadata": {},
   "outputs": [
    {
     "name": "stdout",
     "output_type": "stream",
     "text": [
      "Collecting xarray-spatial\n",
      "  Downloading xarray_spatial-0.2.3-py3-none-any.whl (2.0 MB)\n",
      "\u001b[K     |████████████████████████████████| 2.0 MB 4.3 MB/s eta 0:00:01\n",
      "\u001b[?25hRequirement already satisfied: xarray in /Users/marigaldina/opt/anaconda3/lib/python3.7/site-packages (from xarray-spatial) (0.15.0)\n",
      "Requirement already satisfied: param>=1.6.1 in /Users/marigaldina/opt/anaconda3/lib/python3.7/site-packages (from xarray-spatial) (1.10.1)\n",
      "Requirement already satisfied: spatialpandas in /Users/marigaldina/opt/anaconda3/lib/python3.7/site-packages (from xarray-spatial) (0.4.0)\n",
      "Collecting distributed>=2021.03.0\n",
      "  Downloading distributed-2021.5.1-py3-none-any.whl (705 kB)\n",
      "\u001b[K     |████████████████████████████████| 705 kB 4.9 MB/s eta 0:00:01\n",
      "\u001b[?25hRequirement already satisfied: pandas in /Users/marigaldina/opt/anaconda3/lib/python3.7/site-packages (from xarray-spatial) (1.2.3)\n",
      "Requirement already satisfied: requests in /Users/marigaldina/opt/anaconda3/lib/python3.7/site-packages (from xarray-spatial) (2.22.0)\n",
      "Requirement already satisfied: numba in /Users/marigaldina/opt/anaconda3/lib/python3.7/site-packages (from xarray-spatial) (0.45.1)\n",
      "Requirement already satisfied: numpy in /Users/marigaldina/opt/anaconda3/lib/python3.7/site-packages (from xarray-spatial) (1.19.2)\n",
      "Requirement already satisfied: scipy in /Users/marigaldina/opt/anaconda3/lib/python3.7/site-packages (from xarray-spatial) (1.4.1)\n",
      "Collecting pyct<=0.4.6\n",
      "  Downloading pyct-0.4.6-py2.py3-none-any.whl (12 kB)\n",
      "Requirement already satisfied: datashader in /Users/marigaldina/opt/anaconda3/lib/python3.7/site-packages (from xarray-spatial) (0.12.1)\n",
      "Requirement already satisfied: pillow in /Users/marigaldina/opt/anaconda3/lib/python3.7/site-packages (from xarray-spatial) (8.1.0)\n",
      "Requirement already satisfied: dask in /Users/marigaldina/opt/anaconda3/lib/python3.7/site-packages (from xarray-spatial) (2.5.2)\n",
      "Collecting tblib>=1.6.0\n",
      "  Downloading tblib-1.7.0-py2.py3-none-any.whl (12 kB)\n",
      "Requirement already satisfied: tornado>=5 in /Users/marigaldina/opt/anaconda3/lib/python3.7/site-packages (from distributed>=2021.03.0->xarray-spatial) (6.0.3)\n",
      "Requirement already satisfied: pyyaml in /Users/marigaldina/opt/anaconda3/lib/python3.7/site-packages (from distributed>=2021.03.0->xarray-spatial) (5.1.2)\n",
      "Requirement already satisfied: psutil>=5.0 in /Users/marigaldina/opt/anaconda3/lib/python3.7/site-packages (from distributed>=2021.03.0->xarray-spatial) (5.6.3)\n",
      "Collecting cloudpickle>=1.5.0\n",
      "  Downloading cloudpickle-1.6.0-py3-none-any.whl (23 kB)\n",
      "Requirement already satisfied: toolz>=0.8.2 in /Users/marigaldina/opt/anaconda3/lib/python3.7/site-packages (from distributed>=2021.03.0->xarray-spatial) (0.10.0)\n",
      "Requirement already satisfied: msgpack>=0.6.0 in /Users/marigaldina/opt/anaconda3/lib/python3.7/site-packages (from distributed>=2021.03.0->xarray-spatial) (0.6.1)\n",
      "Requirement already satisfied: sortedcontainers!=2.0.0,!=2.0.1 in /Users/marigaldina/opt/anaconda3/lib/python3.7/site-packages (from distributed>=2021.03.0->xarray-spatial) (2.1.0)\n",
      "Collecting dask\n",
      "  Downloading dask-2021.5.1-py3-none-any.whl (964 kB)\n",
      "\u001b[K     |████████████████████████████████| 964 kB 7.0 MB/s eta 0:00:01\n",
      "\u001b[?25hRequirement already satisfied: click>=6.6 in /Users/marigaldina/opt/anaconda3/lib/python3.7/site-packages (from distributed>=2021.03.0->xarray-spatial) (7.0)\n",
      "Requirement already satisfied: setuptools in /Users/marigaldina/opt/anaconda3/lib/python3.7/site-packages (from distributed>=2021.03.0->xarray-spatial) (46.0.0)\n",
      "Requirement already satisfied: zict>=0.1.3 in /Users/marigaldina/opt/anaconda3/lib/python3.7/site-packages (from distributed>=2021.03.0->xarray-spatial) (1.0.0)\n",
      "Collecting fsspec>=0.6.0\n",
      "  Downloading fsspec-2021.5.0-py3-none-any.whl (111 kB)\n",
      "\u001b[K     |████████████████████████████████| 111 kB 4.2 MB/s eta 0:00:01\n",
      "\u001b[?25hRequirement already satisfied: partd>=0.3.10 in /Users/marigaldina/opt/anaconda3/lib/python3.7/site-packages (from dask->xarray-spatial) (1.0.0)\n",
      "Requirement already satisfied: locket in /Users/marigaldina/opt/anaconda3/lib/python3.7/site-packages (from partd>=0.3.10->dask->xarray-spatial) (0.2.0)\n",
      "Requirement already satisfied: heapdict in /Users/marigaldina/opt/anaconda3/lib/python3.7/site-packages (from zict>=0.1.3->distributed>=2021.03.0->xarray-spatial) (1.0.1)\n",
      "Requirement already satisfied: bokeh in /Users/marigaldina/opt/anaconda3/lib/python3.7/site-packages (from datashader->xarray-spatial) (2.2.3)\n",
      "Requirement already satisfied: colorcet>=0.9.0 in /Users/marigaldina/opt/anaconda3/lib/python3.7/site-packages (from datashader->xarray-spatial) (2.0.6)\n",
      "Requirement already satisfied: datashape>=0.5.1 in /Users/marigaldina/opt/anaconda3/lib/python3.7/site-packages (from datashader->xarray-spatial) (0.5.2)\n",
      "Requirement already satisfied: packaging>=16.8 in /Users/marigaldina/opt/anaconda3/lib/python3.7/site-packages (from bokeh->datashader->xarray-spatial) (19.2)\n",
      "Requirement already satisfied: typing-extensions>=3.7.4 in /Users/marigaldina/opt/anaconda3/lib/python3.7/site-packages (from bokeh->datashader->xarray-spatial) (3.7.4.3)\n",
      "Requirement already satisfied: Jinja2>=2.7 in /Users/marigaldina/opt/anaconda3/lib/python3.7/site-packages (from bokeh->datashader->xarray-spatial) (2.10.3)\n",
      "Requirement already satisfied: python-dateutil>=2.1 in /Users/marigaldina/opt/anaconda3/lib/python3.7/site-packages (from bokeh->datashader->xarray-spatial) (2.8.0)\n",
      "Requirement already satisfied: multipledispatch>=0.4.7 in /Users/marigaldina/opt/anaconda3/lib/python3.7/site-packages (from datashape>=0.5.1->datashader->xarray-spatial) (0.6.0)\n",
      "Requirement already satisfied: MarkupSafe>=0.23 in /Users/marigaldina/opt/anaconda3/lib/python3.7/site-packages (from Jinja2>=2.7->bokeh->datashader->xarray-spatial) (1.1.1)\n",
      "Requirement already satisfied: six in /Users/marigaldina/opt/anaconda3/lib/python3.7/site-packages (from multipledispatch>=0.4.7->datashape>=0.5.1->datashader->xarray-spatial) (1.12.0)\n",
      "Requirement already satisfied: llvmlite>=0.29.0dev0 in /Users/marigaldina/opt/anaconda3/lib/python3.7/site-packages (from numba->xarray-spatial) (0.29.0)\n",
      "Requirement already satisfied: pyparsing>=2.0.2 in /Users/marigaldina/opt/anaconda3/lib/python3.7/site-packages (from packaging>=16.8->bokeh->datashader->xarray-spatial) (2.4.2)\n",
      "Requirement already satisfied: pytz>=2017.3 in /Users/marigaldina/opt/anaconda3/lib/python3.7/site-packages (from pandas->xarray-spatial) (2019.3)\n",
      "Requirement already satisfied: urllib3!=1.25.0,!=1.25.1,<1.26,>=1.21.1 in /Users/marigaldina/opt/anaconda3/lib/python3.7/site-packages (from requests->xarray-spatial) (1.24.2)\n",
      "Requirement already satisfied: certifi>=2017.4.17 in /Users/marigaldina/opt/anaconda3/lib/python3.7/site-packages (from requests->xarray-spatial) (2019.9.11)\n",
      "Requirement already satisfied: idna<2.9,>=2.5 in /Users/marigaldina/opt/anaconda3/lib/python3.7/site-packages (from requests->xarray-spatial) (2.8)\n",
      "Requirement already satisfied: chardet<3.1.0,>=3.0.2 in /Users/marigaldina/opt/anaconda3/lib/python3.7/site-packages (from requests->xarray-spatial) (3.0.4)\n",
      "Requirement already satisfied: python-snappy in /Users/marigaldina/opt/anaconda3/lib/python3.7/site-packages (from spatialpandas->xarray-spatial) (0.6.0)\n",
      "Requirement already satisfied: retrying in /Users/marigaldina/opt/anaconda3/lib/python3.7/site-packages (from spatialpandas->xarray-spatial) (1.3.3)\n",
      "Requirement already satisfied: pyarrow>=0.15 in /Users/marigaldina/opt/anaconda3/lib/python3.7/site-packages (from spatialpandas->xarray-spatial) (4.0.1)\n",
      "Installing collected packages: fsspec, cloudpickle, tblib, dask, pyct, distributed, xarray-spatial\n",
      "  Attempting uninstall: fsspec\n",
      "    Found existing installation: fsspec 0.5.2\n",
      "    Uninstalling fsspec-0.5.2:\n",
      "      Successfully uninstalled fsspec-0.5.2\n",
      "  Attempting uninstall: cloudpickle\n",
      "    Found existing installation: cloudpickle 1.2.2\n",
      "    Uninstalling cloudpickle-1.2.2:\n",
      "      Successfully uninstalled cloudpickle-1.2.2\n",
      "  Attempting uninstall: tblib\n",
      "    Found existing installation: tblib 1.4.0\n",
      "    Uninstalling tblib-1.4.0:\n",
      "      Successfully uninstalled tblib-1.4.0\n",
      "  Attempting uninstall: dask\n",
      "    Found existing installation: dask 2.5.2\n",
      "    Uninstalling dask-2.5.2:\n",
      "      Successfully uninstalled dask-2.5.2\n"
     ]
    },
    {
     "name": "stdout",
     "output_type": "stream",
     "text": [
      "  Attempting uninstall: pyct\n",
      "    Found existing installation: pyct 0.4.8\n",
      "    Uninstalling pyct-0.4.8:\n",
      "      Successfully uninstalled pyct-0.4.8\n",
      "  Attempting uninstall: distributed\n",
      "    Found existing installation: distributed 2.5.2\n",
      "    Uninstalling distributed-2.5.2:\n",
      "      Successfully uninstalled distributed-2.5.2\n",
      "\u001b[31mERROR: pip's dependency resolver does not currently take into account all the packages that are installed. This behaviour is the source of the following dependency conflicts.\n",
      "spyder 3.3.6 requires pyqt5<5.13; python_version >= \"3\", which is not installed.\n",
      "spyder 3.3.6 requires pyqtwebengine<5.13; python_version >= \"3\", which is not installed.\u001b[0m\n",
      "Successfully installed cloudpickle-1.6.0 dask-2021.5.1 distributed-2021.5.1 fsspec-2021.5.0 pyct-0.4.6 tblib-1.7.0 xarray-spatial-0.2.3\n"
     ]
    }
   ],
   "source": [
    "!pip install xarray-spatial"
   ]
  },
  {
   "cell_type": "code",
   "execution_count": 9,
   "metadata": {},
   "outputs": [],
   "source": [
    "import numpy as np\n",
    "import pandas as pd\n",
    "import geopandas as gpd\n",
    "from spatialpandas import GeoDataFrame\n",
    "\n",
    "import datashader as ds\n",
    "from datashader.transfer_functions import stack\n",
    "from datashader.transfer_functions import shade\n",
    "from datashader.transfer_functions import set_background\n",
    "from datashader.colors import inferno\n",
    "\n",
    "from xrspatial.classify import natural_breaks\n",
    "from xrspatial.classify import binary\n",
    "from xrspatial import proximity"
   ]
  },
  {
   "cell_type": "markdown",
   "metadata": {},
   "source": [
    "## Load data\n",
    "\n",
    "Let's load up the data we'll be playing with today: US pharmacy facilities, US block group data, and a US counties shapefile.\n",
    "\n",
    "### Data Sources\n",
    "- [Facilities CSV](https://rxopen.org/)\n",
    "- [US Block Groups Shapefile](https://hub.arcgis.com/datasets/esri::usa-block-groups/data?geometry=-166.940%2C28.846%2C167.571%2C67.170)\n",
    "- [US Counties Shapefile](https://hub.arcgis.com/datasets/48f9af87daa241c4b267c5931ad3b226_0?geometry=-166.940%2C28.846%2C167.571%2C67.170)"
   ]
  },
  {
   "cell_type": "markdown",
   "metadata": {},
   "source": [
    "First, we'll create a DataFrame of pharmacy facility locations and clean that up a bit and set the coordinates."
   ]
  },
  {
   "cell_type": "code",
   "execution_count": 13,
   "metadata": {},
   "outputs": [
    {
     "data": {
      "text/html": [
       "<div>\n",
       "<style scoped>\n",
       "    .dataframe tbody tr th:only-of-type {\n",
       "        vertical-align: middle;\n",
       "    }\n",
       "\n",
       "    .dataframe tbody tr th {\n",
       "        vertical-align: top;\n",
       "    }\n",
       "\n",
       "    .dataframe thead th {\n",
       "        text-align: right;\n",
       "    }\n",
       "</style>\n",
       "<table border=\"1\" class=\"dataframe\">\n",
       "  <thead>\n",
       "    <tr style=\"text-align: right;\">\n",
       "      <th></th>\n",
       "      <th>CalcLocation</th>\n",
       "      <th>Name</th>\n",
       "      <th>Address</th>\n",
       "      <th>City</th>\n",
       "      <th>State</th>\n",
       "      <th>Zip</th>\n",
       "      <th>formated_phone</th>\n",
       "      <th>Status</th>\n",
       "      <th>Icon</th>\n",
       "      <th>Type</th>\n",
       "      <th>y</th>\n",
       "      <th>x</th>\n",
       "    </tr>\n",
       "  </thead>\n",
       "  <tbody>\n",
       "    <tr>\n",
       "      <th>0</th>\n",
       "      <td>32.32474700,-90.92676500</td>\n",
       "      <td>FMCNA - DELTA</td>\n",
       "      <td>104 RAILROAD AVE</td>\n",
       "      <td>DELTA</td>\n",
       "      <td>LA</td>\n",
       "      <td>71233</td>\n",
       "      <td>Please call patient admission line</td>\n",
       "      <td>open</td>\n",
       "      <td>small_green</td>\n",
       "      <td>Dialysis Center</td>\n",
       "      <td>32.324747</td>\n",
       "      <td>-90.926765</td>\n",
       "    </tr>\n",
       "    <tr>\n",
       "      <th>1</th>\n",
       "      <td>46.00736300,-91.49085700</td>\n",
       "      <td>FMC - HAYWARD</td>\n",
       "      <td>10342 DYNO DR</td>\n",
       "      <td>HAYWARD</td>\n",
       "      <td>WI</td>\n",
       "      <td>54843</td>\n",
       "      <td>Please call patient admission line</td>\n",
       "      <td>open</td>\n",
       "      <td>small_green</td>\n",
       "      <td>Dialysis Center</td>\n",
       "      <td>46.007363</td>\n",
       "      <td>-91.490857</td>\n",
       "    </tr>\n",
       "    <tr>\n",
       "      <th>2</th>\n",
       "      <td>34.79047900,-96.68271700</td>\n",
       "      <td>FMCNA - ADA DIALYSIS CTR</td>\n",
       "      <td>324 NW J.A. RICHARDSON LOOP</td>\n",
       "      <td>ADA</td>\n",
       "      <td>OK</td>\n",
       "      <td>74820</td>\n",
       "      <td>Please call patient admission line</td>\n",
       "      <td>open</td>\n",
       "      <td>small_green</td>\n",
       "      <td>Dialysis Center</td>\n",
       "      <td>34.790479</td>\n",
       "      <td>-96.682717</td>\n",
       "    </tr>\n",
       "    <tr>\n",
       "      <th>3</th>\n",
       "      <td>38.92114100,-104.78556200</td>\n",
       "      <td>062563 LIBERTY DIALYSIS - COLORADO SPRINGS NOR...</td>\n",
       "      <td>2180 HOLLOWBROOK DR</td>\n",
       "      <td>COLORADO SPRINGS</td>\n",
       "      <td>CO</td>\n",
       "      <td>80918</td>\n",
       "      <td>Please call patient admission line</td>\n",
       "      <td>open</td>\n",
       "      <td>small_green</td>\n",
       "      <td>Dialysis Center</td>\n",
       "      <td>38.921141</td>\n",
       "      <td>-104.785562</td>\n",
       "    </tr>\n",
       "    <tr>\n",
       "      <th>4</th>\n",
       "      <td>29.98721000,-95.49631600</td>\n",
       "      <td>CHAMPIONS DIALYSIS</td>\n",
       "      <td>4427 Cypress Creek Pkwy</td>\n",
       "      <td>HOUSTON</td>\n",
       "      <td>TX</td>\n",
       "      <td>77068</td>\n",
       "      <td>Please call patient admission line</td>\n",
       "      <td>open</td>\n",
       "      <td>small_green</td>\n",
       "      <td>Dialysis Center</td>\n",
       "      <td>29.987210</td>\n",
       "      <td>-95.496316</td>\n",
       "    </tr>\n",
       "    <tr>\n",
       "      <th>...</th>\n",
       "      <td>...</td>\n",
       "      <td>...</td>\n",
       "      <td>...</td>\n",
       "      <td>...</td>\n",
       "      <td>...</td>\n",
       "      <td>...</td>\n",
       "      <td>...</td>\n",
       "      <td>...</td>\n",
       "      <td>...</td>\n",
       "      <td>...</td>\n",
       "      <td>...</td>\n",
       "      <td>...</td>\n",
       "    </tr>\n",
       "    <tr>\n",
       "      <th>70713</th>\n",
       "      <td>39.96783900,-75.20336900</td>\n",
       "      <td>Nextdoor Community Pharmacy</td>\n",
       "      <td>814 1/2 N 40th St</td>\n",
       "      <td>Philadelphia</td>\n",
       "      <td>PA</td>\n",
       "      <td>191044802</td>\n",
       "      <td>215-921-3191</td>\n",
       "      <td>open</td>\n",
       "      <td>small_green</td>\n",
       "      <td>Pharmacy</td>\n",
       "      <td>39.967839</td>\n",
       "      <td>-75.203369</td>\n",
       "    </tr>\n",
       "    <tr>\n",
       "      <th>70714</th>\n",
       "      <td>40.52023400,-75.56858200</td>\n",
       "      <td>Macungie Community Pharmacy Inc</td>\n",
       "      <td>6465 Village Ln Ste 9</td>\n",
       "      <td>Macungie</td>\n",
       "      <td>PA</td>\n",
       "      <td>180628474</td>\n",
       "      <td>978-863-8342</td>\n",
       "      <td>open</td>\n",
       "      <td>small_green</td>\n",
       "      <td>Pharmacy</td>\n",
       "      <td>40.520234</td>\n",
       "      <td>-75.568582</td>\n",
       "    </tr>\n",
       "    <tr>\n",
       "      <th>70715</th>\n",
       "      <td>40.45670300,-79.92978000</td>\n",
       "      <td>Capsule Pharmacy</td>\n",
       "      <td>5846 Ellsworth Ave</td>\n",
       "      <td>Pittsburgh</td>\n",
       "      <td>PA</td>\n",
       "      <td>152321708</td>\n",
       "      <td>412-388-4918</td>\n",
       "      <td>open</td>\n",
       "      <td>small_green</td>\n",
       "      <td>Pharmacy</td>\n",
       "      <td>40.456703</td>\n",
       "      <td>-79.929780</td>\n",
       "    </tr>\n",
       "    <tr>\n",
       "      <th>70716</th>\n",
       "      <td>39.83663100,-75.44242700</td>\n",
       "      <td>Wellness Family Pharmacy</td>\n",
       "      <td>3250 Chichester Ave</td>\n",
       "      <td>Upper Chichester</td>\n",
       "      <td>PA</td>\n",
       "      <td>190613250</td>\n",
       "      <td>610-234-2922</td>\n",
       "      <td>open</td>\n",
       "      <td>small_green</td>\n",
       "      <td>Pharmacy</td>\n",
       "      <td>39.836631</td>\n",
       "      <td>-75.442427</td>\n",
       "    </tr>\n",
       "    <tr>\n",
       "      <th>70717</th>\n",
       "      <td>40.64143900,-75.49097500</td>\n",
       "      <td>Zephyr Pharmacy</td>\n",
       "      <td>1618 Schadt Ave</td>\n",
       "      <td>Whitehall</td>\n",
       "      <td>PA</td>\n",
       "      <td>180523702</td>\n",
       "      <td>610-351-6337</td>\n",
       "      <td>open</td>\n",
       "      <td>small_green</td>\n",
       "      <td>Pharmacy</td>\n",
       "      <td>40.641439</td>\n",
       "      <td>-75.490975</td>\n",
       "    </tr>\n",
       "  </tbody>\n",
       "</table>\n",
       "<p>70718 rows × 12 columns</p>\n",
       "</div>"
      ],
      "text/plain": [
       "                    CalcLocation  \\\n",
       "0       32.32474700,-90.92676500   \n",
       "1       46.00736300,-91.49085700   \n",
       "2       34.79047900,-96.68271700   \n",
       "3      38.92114100,-104.78556200   \n",
       "4       29.98721000,-95.49631600   \n",
       "...                          ...   \n",
       "70713   39.96783900,-75.20336900   \n",
       "70714   40.52023400,-75.56858200   \n",
       "70715   40.45670300,-79.92978000   \n",
       "70716   39.83663100,-75.44242700   \n",
       "70717   40.64143900,-75.49097500   \n",
       "\n",
       "                                                    Name  \\\n",
       "0                                          FMCNA - DELTA   \n",
       "1                                          FMC - HAYWARD   \n",
       "2                               FMCNA - ADA DIALYSIS CTR   \n",
       "3      062563 LIBERTY DIALYSIS - COLORADO SPRINGS NOR...   \n",
       "4                                     CHAMPIONS DIALYSIS   \n",
       "...                                                  ...   \n",
       "70713                        Nextdoor Community Pharmacy   \n",
       "70714                    Macungie Community Pharmacy Inc   \n",
       "70715                                   Capsule Pharmacy   \n",
       "70716                           Wellness Family Pharmacy   \n",
       "70717                                    Zephyr Pharmacy   \n",
       "\n",
       "                           Address              City State        Zip  \\\n",
       "0                 104 RAILROAD AVE             DELTA    LA      71233   \n",
       "1                    10342 DYNO DR           HAYWARD    WI      54843   \n",
       "2      324 NW J.A. RICHARDSON LOOP               ADA    OK      74820   \n",
       "3              2180 HOLLOWBROOK DR  COLORADO SPRINGS    CO      80918   \n",
       "4          4427 Cypress Creek Pkwy           HOUSTON    TX      77068   \n",
       "...                            ...               ...   ...        ...   \n",
       "70713            814 1/2 N 40th St      Philadelphia    PA  191044802   \n",
       "70714        6465 Village Ln Ste 9          Macungie    PA  180628474   \n",
       "70715           5846 Ellsworth Ave        Pittsburgh    PA  152321708   \n",
       "70716          3250 Chichester Ave  Upper Chichester    PA  190613250   \n",
       "70717              1618 Schadt Ave         Whitehall    PA  180523702   \n",
       "\n",
       "                           formated_phone Status         Icon  \\\n",
       "0      Please call patient admission line   open  small_green   \n",
       "1      Please call patient admission line   open  small_green   \n",
       "2      Please call patient admission line   open  small_green   \n",
       "3      Please call patient admission line   open  small_green   \n",
       "4      Please call patient admission line   open  small_green   \n",
       "...                                   ...    ...          ...   \n",
       "70713                        215-921-3191   open  small_green   \n",
       "70714                        978-863-8342   open  small_green   \n",
       "70715                        412-388-4918   open  small_green   \n",
       "70716                        610-234-2922   open  small_green   \n",
       "70717                        610-351-6337   open  small_green   \n",
       "\n",
       "                  Type          y           x  \n",
       "0      Dialysis Center  32.324747  -90.926765  \n",
       "1      Dialysis Center  46.007363  -91.490857  \n",
       "2      Dialysis Center  34.790479  -96.682717  \n",
       "3      Dialysis Center  38.921141 -104.785562  \n",
       "4      Dialysis Center  29.987210  -95.496316  \n",
       "...                ...        ...         ...  \n",
       "70713         Pharmacy  39.967839  -75.203369  \n",
       "70714         Pharmacy  40.520234  -75.568582  \n",
       "70715         Pharmacy  40.456703  -79.929780  \n",
       "70716         Pharmacy  39.836631  -75.442427  \n",
       "70717         Pharmacy  40.641439  -75.490975  \n",
       "\n",
       "[70718 rows x 12 columns]"
      ]
     },
     "execution_count": 13,
     "metadata": {},
     "output_type": "execute_result"
    }
   ],
   "source": [
    "# Load Pharmacies and add out x, y fields based on CalcLocation\n",
    "pharmacy_df = pd.read_csv(\"./data/facility.csv\")\n",
    "coords = pharmacy_df['CalcLocation'].str.split(',', expand=True)\n",
    "pharmacy_df['y'] = np.array(coords[0], dtype='float64')\n",
    "pharmacy_df['x'] = np.array(coords[1], dtype='float64')\n",
    "pharmacy_df"
   ]
  },
  {
   "cell_type": "markdown",
   "metadata": {},
   "source": [
    "Next, we'll do the same for the US block group data, but we'll use geopandas for this, because it involves spatial data.\n",
    "We'll also group together all age groups above 65 to simplify things a bit. "
   ]
  },
  {
   "cell_type": "code",
   "execution_count": 14,
   "metadata": {},
   "outputs": [
    {
     "ename": "DriverError",
     "evalue": "'/vsizip/./data/USA_Block_Groups-shp.zip' does not exist in the file system, and is not recognized as a supported dataset name.",
     "output_type": "error",
     "traceback": [
      "\u001b[0;31m---------------------------------------------------------------------------\u001b[0m",
      "\u001b[0;31mCPLE_OpenFailedError\u001b[0m                      Traceback (most recent call last)",
      "\u001b[0;32mfiona/_shim.pyx\u001b[0m in \u001b[0;36mfiona._shim.gdal_open_vector\u001b[0;34m()\u001b[0m\n",
      "\u001b[0;32mfiona/_err.pyx\u001b[0m in \u001b[0;36mfiona._err.exc_wrap_pointer\u001b[0;34m()\u001b[0m\n",
      "\u001b[0;31mCPLE_OpenFailedError\u001b[0m: '/vsizip/./data/USA_Block_Groups-shp.zip' does not exist in the file system, and is not recognized as a supported dataset name.",
      "\nDuring handling of the above exception, another exception occurred:\n",
      "\u001b[0;31mDriverError\u001b[0m                               Traceback (most recent call last)",
      "\u001b[0;32m<ipython-input-14-9049bec5ba14>\u001b[0m in \u001b[0;36m<module>\u001b[0;34m\u001b[0m\n\u001b[1;32m      1\u001b[0m \u001b[0;31m# Load Census Block Groups and Calculate Percent over 65 years-old\u001b[0m\u001b[0;34m\u001b[0m\u001b[0;34m\u001b[0m\u001b[0;34m\u001b[0m\u001b[0m\n\u001b[0;32m----> 2\u001b[0;31m \u001b[0mblockgroup_df\u001b[0m \u001b[0;34m=\u001b[0m \u001b[0mgpd\u001b[0m\u001b[0;34m.\u001b[0m\u001b[0mread_file\u001b[0m\u001b[0;34m(\u001b[0m\u001b[0;34m\"zip://./data/USA_Block_Groups-shp.zip\"\u001b[0m\u001b[0;34m)\u001b[0m\u001b[0;34m\u001b[0m\u001b[0;34m\u001b[0m\u001b[0m\n\u001b[0m\u001b[1;32m      3\u001b[0m \u001b[0mblockgroup_df\u001b[0m \u001b[0;34m=\u001b[0m \u001b[0mGeoDataFrame\u001b[0m\u001b[0;34m(\u001b[0m\u001b[0mblockgroup_df\u001b[0m\u001b[0;34m,\u001b[0m \u001b[0mgeometry\u001b[0m\u001b[0;34m=\u001b[0m\u001b[0;34m'geometry'\u001b[0m\u001b[0;34m)\u001b[0m\u001b[0;34m\u001b[0m\u001b[0;34m\u001b[0m\u001b[0m\n\u001b[1;32m      4\u001b[0m \u001b[0mblockgroup_df\u001b[0m\u001b[0;34m[\u001b[0m\u001b[0;34m'ABOVE_65'\u001b[0m\u001b[0;34m]\u001b[0m \u001b[0;34m=\u001b[0m \u001b[0mblockgroup_df\u001b[0m\u001b[0;34m[\u001b[0m\u001b[0;34m[\u001b[0m\u001b[0;34m'AGE_65_74'\u001b[0m\u001b[0;34m,\u001b[0m \u001b[0;34m'AGE_75_84'\u001b[0m\u001b[0;34m,\u001b[0m \u001b[0;34m'AGE_85_UP'\u001b[0m\u001b[0;34m]\u001b[0m\u001b[0;34m]\u001b[0m\u001b[0;34m.\u001b[0m\u001b[0msum\u001b[0m\u001b[0;34m(\u001b[0m\u001b[0maxis\u001b[0m\u001b[0;34m=\u001b[0m\u001b[0;36m1\u001b[0m\u001b[0;34m)\u001b[0m\u001b[0;34m\u001b[0m\u001b[0;34m\u001b[0m\u001b[0m\n\u001b[1;32m      5\u001b[0m \u001b[0mblockgroup_df\u001b[0m\u001b[0;34m[\u001b[0m\u001b[0;34m'PCT_ABOVE_65'\u001b[0m\u001b[0;34m]\u001b[0m \u001b[0;34m=\u001b[0m \u001b[0mblockgroup_df\u001b[0m\u001b[0;34m[\u001b[0m\u001b[0;34m'ABOVE_65'\u001b[0m\u001b[0;34m]\u001b[0m \u001b[0;34m/\u001b[0m \u001b[0mblockgroup_df\u001b[0m\u001b[0;34m[\u001b[0m\u001b[0;34m'POP2010'\u001b[0m\u001b[0;34m]\u001b[0m\u001b[0;34m\u001b[0m\u001b[0;34m\u001b[0m\u001b[0m\n",
      "\u001b[0;32m~/opt/anaconda3/lib/python3.7/site-packages/geopandas/io/file.py\u001b[0m in \u001b[0;36m_read_file\u001b[0;34m(filename, bbox, mask, rows, **kwargs)\u001b[0m\n\u001b[1;32m     94\u001b[0m \u001b[0;34m\u001b[0m\u001b[0m\n\u001b[1;32m     95\u001b[0m     \u001b[0;32mwith\u001b[0m \u001b[0mfiona_env\u001b[0m\u001b[0;34m(\u001b[0m\u001b[0;34m)\u001b[0m\u001b[0;34m:\u001b[0m\u001b[0;34m\u001b[0m\u001b[0;34m\u001b[0m\u001b[0m\n\u001b[0;32m---> 96\u001b[0;31m         \u001b[0;32mwith\u001b[0m \u001b[0mreader\u001b[0m\u001b[0;34m(\u001b[0m\u001b[0mpath_or_bytes\u001b[0m\u001b[0;34m,\u001b[0m \u001b[0;34m**\u001b[0m\u001b[0mkwargs\u001b[0m\u001b[0;34m)\u001b[0m \u001b[0;32mas\u001b[0m \u001b[0mfeatures\u001b[0m\u001b[0;34m:\u001b[0m\u001b[0;34m\u001b[0m\u001b[0;34m\u001b[0m\u001b[0m\n\u001b[0m\u001b[1;32m     97\u001b[0m \u001b[0;34m\u001b[0m\u001b[0m\n\u001b[1;32m     98\u001b[0m             \u001b[0;31m# In a future Fiona release the crs attribute of features will\u001b[0m\u001b[0;34m\u001b[0m\u001b[0;34m\u001b[0m\u001b[0;34m\u001b[0m\u001b[0m\n",
      "\u001b[0;32m~/opt/anaconda3/lib/python3.7/site-packages/fiona/env.py\u001b[0m in \u001b[0;36mwrapper\u001b[0;34m(*args, **kwargs)\u001b[0m\n\u001b[1;32m    398\u001b[0m     \u001b[0;32mdef\u001b[0m \u001b[0mwrapper\u001b[0m\u001b[0;34m(\u001b[0m\u001b[0;34m*\u001b[0m\u001b[0margs\u001b[0m\u001b[0;34m,\u001b[0m \u001b[0;34m**\u001b[0m\u001b[0mkwargs\u001b[0m\u001b[0;34m)\u001b[0m\u001b[0;34m:\u001b[0m\u001b[0;34m\u001b[0m\u001b[0;34m\u001b[0m\u001b[0m\n\u001b[1;32m    399\u001b[0m         \u001b[0;32mif\u001b[0m \u001b[0mlocal\u001b[0m\u001b[0;34m.\u001b[0m\u001b[0m_env\u001b[0m\u001b[0;34m:\u001b[0m\u001b[0;34m\u001b[0m\u001b[0;34m\u001b[0m\u001b[0m\n\u001b[0;32m--> 400\u001b[0;31m             \u001b[0;32mreturn\u001b[0m \u001b[0mf\u001b[0m\u001b[0;34m(\u001b[0m\u001b[0;34m*\u001b[0m\u001b[0margs\u001b[0m\u001b[0;34m,\u001b[0m \u001b[0;34m**\u001b[0m\u001b[0mkwargs\u001b[0m\u001b[0;34m)\u001b[0m\u001b[0;34m\u001b[0m\u001b[0;34m\u001b[0m\u001b[0m\n\u001b[0m\u001b[1;32m    401\u001b[0m         \u001b[0;32melse\u001b[0m\u001b[0;34m:\u001b[0m\u001b[0;34m\u001b[0m\u001b[0;34m\u001b[0m\u001b[0m\n\u001b[1;32m    402\u001b[0m             \u001b[0;32mif\u001b[0m \u001b[0misinstance\u001b[0m\u001b[0;34m(\u001b[0m\u001b[0margs\u001b[0m\u001b[0;34m[\u001b[0m\u001b[0;36m0\u001b[0m\u001b[0;34m]\u001b[0m\u001b[0;34m,\u001b[0m \u001b[0mstr\u001b[0m\u001b[0;34m)\u001b[0m\u001b[0;34m:\u001b[0m\u001b[0;34m\u001b[0m\u001b[0;34m\u001b[0m\u001b[0m\n",
      "\u001b[0;32m~/opt/anaconda3/lib/python3.7/site-packages/fiona/__init__.py\u001b[0m in \u001b[0;36mopen\u001b[0;34m(fp, mode, driver, schema, crs, encoding, layer, vfs, enabled_drivers, crs_wkt, **kwargs)\u001b[0m\n\u001b[1;32m    255\u001b[0m         \u001b[0;32mif\u001b[0m \u001b[0mmode\u001b[0m \u001b[0;32min\u001b[0m \u001b[0;34m(\u001b[0m\u001b[0;34m'a'\u001b[0m\u001b[0;34m,\u001b[0m \u001b[0;34m'r'\u001b[0m\u001b[0;34m)\u001b[0m\u001b[0;34m:\u001b[0m\u001b[0;34m\u001b[0m\u001b[0;34m\u001b[0m\u001b[0m\n\u001b[1;32m    256\u001b[0m             c = Collection(path, mode, driver=driver, encoding=encoding,\n\u001b[0;32m--> 257\u001b[0;31m                            layer=layer, enabled_drivers=enabled_drivers, **kwargs)\n\u001b[0m\u001b[1;32m    258\u001b[0m         \u001b[0;32melif\u001b[0m \u001b[0mmode\u001b[0m \u001b[0;34m==\u001b[0m \u001b[0;34m'w'\u001b[0m\u001b[0;34m:\u001b[0m\u001b[0;34m\u001b[0m\u001b[0;34m\u001b[0m\u001b[0m\n\u001b[1;32m    259\u001b[0m             \u001b[0;32mif\u001b[0m \u001b[0mschema\u001b[0m\u001b[0;34m:\u001b[0m\u001b[0;34m\u001b[0m\u001b[0;34m\u001b[0m\u001b[0m\n",
      "\u001b[0;32m~/opt/anaconda3/lib/python3.7/site-packages/fiona/collection.py\u001b[0m in \u001b[0;36m__init__\u001b[0;34m(self, path, mode, driver, schema, crs, encoding, layer, vsi, archive, enabled_drivers, crs_wkt, ignore_fields, ignore_geometry, **kwargs)\u001b[0m\n\u001b[1;32m    160\u001b[0m             \u001b[0;32mif\u001b[0m \u001b[0mself\u001b[0m\u001b[0;34m.\u001b[0m\u001b[0mmode\u001b[0m \u001b[0;34m==\u001b[0m \u001b[0;34m'r'\u001b[0m\u001b[0;34m:\u001b[0m\u001b[0;34m\u001b[0m\u001b[0;34m\u001b[0m\u001b[0m\n\u001b[1;32m    161\u001b[0m                 \u001b[0mself\u001b[0m\u001b[0;34m.\u001b[0m\u001b[0msession\u001b[0m \u001b[0;34m=\u001b[0m \u001b[0mSession\u001b[0m\u001b[0;34m(\u001b[0m\u001b[0;34m)\u001b[0m\u001b[0;34m\u001b[0m\u001b[0;34m\u001b[0m\u001b[0m\n\u001b[0;32m--> 162\u001b[0;31m                 \u001b[0mself\u001b[0m\u001b[0;34m.\u001b[0m\u001b[0msession\u001b[0m\u001b[0;34m.\u001b[0m\u001b[0mstart\u001b[0m\u001b[0;34m(\u001b[0m\u001b[0mself\u001b[0m\u001b[0;34m,\u001b[0m \u001b[0;34m**\u001b[0m\u001b[0mkwargs\u001b[0m\u001b[0;34m)\u001b[0m\u001b[0;34m\u001b[0m\u001b[0;34m\u001b[0m\u001b[0m\n\u001b[0m\u001b[1;32m    163\u001b[0m             \u001b[0;32melif\u001b[0m \u001b[0mself\u001b[0m\u001b[0;34m.\u001b[0m\u001b[0mmode\u001b[0m \u001b[0;32min\u001b[0m \u001b[0;34m(\u001b[0m\u001b[0;34m'a'\u001b[0m\u001b[0;34m,\u001b[0m \u001b[0;34m'w'\u001b[0m\u001b[0;34m)\u001b[0m\u001b[0;34m:\u001b[0m\u001b[0;34m\u001b[0m\u001b[0;34m\u001b[0m\u001b[0m\n\u001b[1;32m    164\u001b[0m                 \u001b[0mself\u001b[0m\u001b[0;34m.\u001b[0m\u001b[0msession\u001b[0m \u001b[0;34m=\u001b[0m \u001b[0mWritingSession\u001b[0m\u001b[0;34m(\u001b[0m\u001b[0;34m)\u001b[0m\u001b[0;34m\u001b[0m\u001b[0;34m\u001b[0m\u001b[0m\n",
      "\u001b[0;32mfiona/ogrext.pyx\u001b[0m in \u001b[0;36mfiona.ogrext.Session.start\u001b[0;34m()\u001b[0m\n",
      "\u001b[0;32mfiona/_shim.pyx\u001b[0m in \u001b[0;36mfiona._shim.gdal_open_vector\u001b[0;34m()\u001b[0m\n",
      "\u001b[0;31mDriverError\u001b[0m: '/vsizip/./data/USA_Block_Groups-shp.zip' does not exist in the file system, and is not recognized as a supported dataset name."
     ]
    }
   ],
   "source": [
    "# Load Census Block Groups and Calculate Percent over 65 years-old\n",
    "blockgroup_df = gpd.read_file(\"zip://./data/USA_Block_Groups-shp.zip\")\n",
    "blockgroup_df = GeoDataFrame(blockgroup_df, geometry='geometry')\n",
    "blockgroup_df['ABOVE_65'] = blockgroup_df[['AGE_65_74', 'AGE_75_84', 'AGE_85_UP']].sum(axis=1) \n",
    "blockgroup_df['PCT_ABOVE_65'] = blockgroup_df['ABOVE_65'] / blockgroup_df['POP2010']\n",
    "blockgroup_df"
   ]
  },
  {
   "cell_type": "markdown",
   "metadata": {},
   "source": [
    "And, we'll do the same again for the counties data."
   ]
  },
  {
   "cell_type": "code",
   "execution_count": null,
   "metadata": {},
   "outputs": [],
   "source": [
    "# Load Census County and Calculate Percent over 65 years-old\n",
    "county_df = gpd.read_file(\"zip://./data/USA_Counties-shp.zip\")\n",
    "county_df = GeoDataFrame(county_df, geometry='geometry')\n",
    "county_df['ZONE_ID'] = county_df['OBJECTID'].astype(np.int16)\n",
    "county_df"
   ]
  },
  {
   "cell_type": "markdown",
   "metadata": {},
   "source": [
    "## Define Study Area and aggregate:\n",
    "\n",
    "Now we're ready to set up our aggregate rasters (data that's been aggregated into the regular row-column cell format of a raster image) and then perform calculations on those rasters and combine them in informative ways."
   ]
  },
  {
   "cell_type": "markdown",
   "metadata": {},
   "source": [
    "The first raster we'll set up is the counties mask; we'll use this one to make our other rasters fit with county shapes.\n",
    "\n",
    "- We set a range for for our x and y coordinates in longitude and latitude values.\n",
    "- We use datashder's Canvas object as an easy-to-use frame to build up a raster with and aggregate data into.\n",
    "- Finally, we aggregate the county shapes - polygons - into that raster. \n",
    "\n",
    "A quick shade and transformation with datashader functions visualizes our mask set-up."
   ]
  },
  {
   "cell_type": "code",
   "execution_count": null,
   "metadata": {},
   "outputs": [],
   "source": [
    "x_range = (-124.848974, -66.885444)\n",
    "y_range = (24.396308, 49.384358)\n",
    "\n",
    "W = 1600\n",
    "H = 800\n",
    "\n",
    "cvs = ds.Canvas(plot_width=W, plot_height=H,\n",
    "                x_range=x_range, y_range=y_range)\n",
    "\n",
    "county_mask = cvs.polygons(county_df, geometry='geometry')\n",
    "set_background(shade(county_mask, cmap='#333333', alpha=255), 'black')"
   ]
  },
  {
   "cell_type": "markdown",
   "metadata": {},
   "source": [
    "Now we can set up the other rasters and use some Xarray-spatial functions to quantify pharmacy distances, age groups, and county data, and how they relate to each other."
   ]
  },
  {
   "cell_type": "markdown",
   "metadata": {},
   "source": [
    "### Create a \"Distance to Nearest Pharmacy\" Raster Layer & Classify into 4 Groups\n",
    "\n",
    "First, we'll create a pharmacy locations raster layer by aggregating our pharmacies DataFrame from above.\n",
    "Using `proximity`, we can create transform this into a raster of the distances for each point to its nearest pharmacy.\n",
    "We can also further orgnaize this by applying Xarray-spatial's `natural_breaks` reclassification function. This will break up our proximity data into neat bins so it's easier to visualize and interpret."
   ]
  },
  {
   "cell_type": "code",
   "execution_count": null,
   "metadata": {},
   "outputs": [],
   "source": [
    "pharmacy_raster = cvs.points(pharmacy_df, 'x', 'y')\n",
    "proximity_raster = proximity(pharmacy_raster, distance_metric='GREAT_CIRCLE').where(county_mask)\n",
    "proximity_raster.data[~np.isfinite(proximity_raster.data)] = 0.0\n",
    "\n",
    "proximity_classifed = natural_breaks(proximity_raster, 20000, k=4).where(county_mask)\n",
    "\n",
    "image_pharmacy = shade(proximity_classifed, cmap=inferno, alpha=255)\n",
    "image_pharmacy = set_background(image_pharmacy, 'black')\n",
    "image_pharmacy"
   ]
  },
  {
   "cell_type": "markdown",
   "metadata": {},
   "source": [
    "### Create an Age Layer  & Classify into 4 Groups\n",
    "\n",
    "Next, we'll create an age groups raster from the block group DataFrame above.\n",
    "We'll also reclassify this with `natural_breaks` to make it easier to map."
   ]
  },
  {
   "cell_type": "code",
   "execution_count": null,
   "metadata": {},
   "outputs": [],
   "source": [
    "age_raster = cvs.polygons(blockgroup_df, geometry='geometry', agg=ds.mean('PCT_ABOVE_65'))\n",
    "age_raster.data[~np.isfinite(age_raster.data)] = 0.0\n",
    "\n",
    "age_classifed = natural_breaks(age_raster, 20000, k=4).where(county_mask)\n",
    "\n",
    "age_image = shade(age_classifed, cmap=inferno, alpha=255)\n",
    "age_image = set_background(age_image, 'black')\n",
    "age_image"
   ]
  },
  {
   "cell_type": "markdown",
   "metadata": {},
   "source": [
    "### Combine layers to highlight seniors at risk from pharmacy deserts\n",
    "\n",
    "Finally, we'll combine the county, age, and pharmacy distance raster layers to highlight counties where there are more seniors who are at greater distance from pharmacies."
   ]
  },
  {
   "cell_type": "code",
   "execution_count": null,
   "metadata": {},
   "outputs": [],
   "source": [
    "pharmacy_deserts = binary(proximity_classifed, [3])\n",
    "older_regions = binary(age_classifed, [3])\n",
    "target_deserts = (pharmacy_deserts * older_regions).where(county_mask)\n",
    "target_deserts_img = shade(target_deserts, cmap=['#333333', 'fuchsia'], alpha=255, how='linear')\n",
    "set_background(target_deserts_img, 'black')"
   ]
  },
  {
   "cell_type": "markdown",
   "metadata": {},
   "source": [
    "###  Summarize seniors at risk by county: the Zonal Statistics function\n",
    "\n",
    "The renderings above are great, but we might also want to summarize the quantitative info we just generated as a table with summary statistics. Xarray-spatial's zonal statisitics function lets us do that. \n",
    "\n",
    "`Zonal statistics` operates on a values raster by applying a zones aggregate to it. This is defined by creating an integer aggregate corresponding to the shape of the values raster, but with the value set at each cell to a non-zero integer that is the id of the zone we wish to put that cell in. `Zonal_stats` gathers the values for all cells assigned to each zone_id and generates summary statistics for each one. The output is a Pandas dataframe with the calculation results in columns and with a row for each zone."
   ]
  },
  {
   "cell_type": "markdown",
   "metadata": {},
   "source": [
    "#### Setup:\n",
    "\n",
    "First, we'll set up our counties raster as a background for the statistics we're about to generate and shade with some fun colors just to take a look at it now (just because we want a table of values, doesn't mean we can't also visualize it if we like)."
   ]
  },
  {
   "cell_type": "code",
   "execution_count": null,
   "metadata": {},
   "outputs": [],
   "source": [
    "from datashader.colors import Set1\n",
    "\n",
    "counties_raster = cvs.polygons(county_df, geometry='geometry', agg=ds.max('OBJECTID'))\n",
    "counties_image = shade(counties_raster, cmap=Set1, alpha=225, how='linear')\n",
    "set_background(counties_image, 'black')"
   ]
  },
  {
   "cell_type": "markdown",
   "metadata": {},
   "source": [
    "Now, let's generate those statistics.\n",
    "\n",
    "After a quick clean-up, we'll put our rasters in as arguments: we put counties as the zones, put target deserts as the values  \n",
    "to segregate into those zones, and provide a dict with our desired statistics function to perform.\n",
    "\n",
    "Note: `zonal_stats` comes with its own set of default calculations it will perform if the 3rd \"zonal_funcs\" argument is left empty, and please do feel free to clear that out and see what happens.\n",
    "But, for our purposes, all we need is a simple mean calculation, so we'll set that into a dict, which we'll put into zonal_stats.\n",
    "\n"
   ]
  },
  {
   "cell_type": "code",
   "execution_count": null,
   "metadata": {},
   "outputs": [],
   "source": [
    "from xrspatial import zonal_stats\n",
    "\n",
    "# zones\n",
    "counties_raster.data = counties_raster.data.astype(np.int64)\n",
    "\n",
    "# values to summarize\n",
    "target_deserts.data = target_deserts.data.astype(np.int8)\n",
    "\n",
    "# summary functions\n",
    "zonal_funcs = dict(pharmacy_desert_mean=lambda z: z.mean())\n",
    "\n",
    "# execute summary functions on each zone and take top 10\n",
    "results = zonal_stats(counties_raster, target_deserts, zonal_funcs)"
   ]
  },
  {
   "cell_type": "markdown",
   "metadata": {},
   "source": [
    "Now we can merge this results DataFrame back into the original counties one. "
   ]
  },
  {
   "cell_type": "code",
   "execution_count": null,
   "metadata": {},
   "outputs": [],
   "source": [
    "cols = ['pharmacy_desert_mean', 'NAME', 'STATE_FIPS', 'geometry']\n",
    "final_df = pd.merge(county_df, results, left_on='ZONE_ID', right_index=True)[cols]\n",
    "final_df.nlargest(10, 'pharmacy_desert_mean')"
   ]
  },
  {
   "cell_type": "markdown",
   "metadata": {},
   "source": [
    "Finally, we'll rasterize and shade these to visualize the results. We've highlighted the 100 counties with the highest pharmacy desert measures for seniors and shaded them by how much distance away, on average, the pharamcies are."
   ]
  },
  {
   "cell_type": "code",
   "execution_count": null,
   "metadata": {},
   "outputs": [],
   "source": [
    "from xrspatial import hillshade\n",
    "\n",
    "counties_raster = cvs.polygons(county_df, geometry='geometry', agg=ds.max('OBJECTID'))\n",
    "\n",
    "desert_raster = cvs.polygons(final_df.nlargest(75, 'pharmacy_desert_mean'),\n",
    "                             geometry='geometry',\n",
    "                             agg=ds.mean('pharmacy_desert_mean'))\n",
    "\n",
    "county_mask = cvs.polygons(county_df, geometry='geometry')"
   ]
  },
  {
   "cell_type": "code",
   "execution_count": null,
   "metadata": {},
   "outputs": [],
   "source": [
    "img = stack(\n",
    "    shade(county_mask, cmap=['#0f9425'], alpha=255),\n",
    "    shade(counties_raster, cmap=['green', '#ffffff'], alpha=25),\n",
    "    shade(desert_raster, cmap=['white','#ff0000'], alpha=255),\n",
    "    shade(hillshade(desert_raster), cmap=['green', '#ff0000'], alpha=150),\n",
    ")\n",
    "set_background(img, 'black')"
   ]
  }
 ],
 "metadata": {
  "kernelspec": {
   "display_name": "Python 3",
   "language": "python",
   "name": "python3"
  },
  "language_info": {
   "codemirror_mode": {
    "name": "ipython",
    "version": 3
   },
   "file_extension": ".py",
   "mimetype": "text/x-python",
   "name": "python",
   "nbconvert_exporter": "python",
   "pygments_lexer": "ipython3",
   "version": "3.7.4"
  }
 },
 "nbformat": 4,
 "nbformat_minor": 4
}
