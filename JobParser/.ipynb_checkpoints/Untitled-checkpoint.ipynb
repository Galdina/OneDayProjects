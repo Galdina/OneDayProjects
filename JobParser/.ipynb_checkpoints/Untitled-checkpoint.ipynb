{
 "cells": [
  {
   "cell_type": "code",
   "execution_count": 1,
   "metadata": {},
   "outputs": [],
   "source": [
    "import os\n",
    "import re"
   ]
  },
  {
   "cell_type": "code",
   "execution_count": 2,
   "metadata": {},
   "outputs": [],
   "source": [
    "import nltk\n",
    "from nltk.corpus import stopwords\n",
    "from nltk import word_tokenize\n",
    "from nltk.util import ngrams\n",
    "from nltk.util import bigrams\n",
    "from nltk.collocations import *"
   ]
  },
  {
   "cell_type": "code",
   "execution_count": 3,
   "metadata": {},
   "outputs": [],
   "source": [
    "import pandas as pd\n",
    "import numpy as np"
   ]
  },
  {
   "cell_type": "code",
   "execution_count": 4,
   "metadata": {},
   "outputs": [],
   "source": [
    "from wordcloud import WordCloud\n",
    "import matplotlib.pyplot as pl"
   ]
  },
  {
   "cell_type": "markdown",
   "metadata": {},
   "source": [
    "# Read job description\n"
   ]
  },
  {
   "cell_type": "code",
   "execution_count": 5,
   "metadata": {},
   "outputs": [],
   "source": [
    "path =  \"data\""
   ]
  },
  {
   "cell_type": "code",
   "execution_count": 6,
   "metadata": {},
   "outputs": [],
   "source": [
    "os.chdir(path)"
   ]
  },
  {
   "cell_type": "code",
   "execution_count": 7,
   "metadata": {},
   "outputs": [],
   "source": [
    "with open('job_description.txt') as f:\n",
    "    data = f.read()"
   ]
  },
  {
   "cell_type": "code",
   "execution_count": 8,
   "metadata": {},
   "outputs": [
    {
     "name": "stdout",
     "output_type": "stream",
     "text": [
      "Job Description\n",
      "\n",
      "\n",
      "Do you find yourself searching for a truly unique working environment? Do you have a go-getter attitude? Well, are you ready to take on a new challenge? We have an exciting opportunity for a Data Analyst (Underwriting & Lending) to join Dot818’s growing team!\n",
      "\n",
      "We’re looking for a special kind of candidate – someone who appreciates challenging projects, is comfortable working with a supportive team, and hungers for the freedom to think outside of the box. We also want you to care about our core values too. We have a deep commitment to success, we build strong relationships through tenacious effort, and we keep a firm focus on our client’s needs. If this sounds like your dream job, take the first step toward joining our team and apply now with your resume.\n",
      "\n",
      "The Data Analyst is expected to thoroughly understand the credit/lending risk domain, and frequently use industry specific risk analysis best practices when operating and building predictive models. The ideal candidate would be able to design new models, frameworks, dashboards, and other tools.\n",
      "\n",
      "Job Requirements\n",
      "\n",
      "\n",
      "You should be able to:\n",
      "\n",
      "\n",
      "Develop and implement underwriting and credit risk assessment data models\n",
      "Track various data metrics within the lending industry\n",
      "Close interaction with IT Team to design/improve data architecture\n",
      "Identify optimization opportunities using predictive modeling\n",
      "Develop and implement advanced custom models and algorithms\n",
      "Develop tools to monitor and analyze model performance and data accuracy\n",
      "Investigate new data sets and identify strategic opportunities for improving servicing for our customers\n",
      "Build out new data flows as our product changes, and produce high-value, timely analytics relevant to the lending and underwriting industry\n",
      "\n",
      "Qualifications\n",
      "\n",
      "Master’s degree in Data Science, Computer Science, Statistics, Mathematics, or any other quantitative discipline\n",
      "At least 3 years’ experience in the Fintech industry working with financial underwriting models, variables, and risk assessment models.\n",
      "Knowledge of R, Python, SQL\n",
      "Rigorous statistical intuition, deep understanding of core statistical principles, and extensive experience with core methods\n",
      "Knowledge of advanced statistical techniques and concepts\n",
      "Experience creating and using advanced machine learning algorithms\n",
      "\n",
      "\n",
      "Skills\n",
      "\n",
      "You are highly organized with the ability to multi-task and prioritize in a fast-paced culture\n",
      "You are a critical thinker and able to problem solve\n",
      "You have strong verbal communication skills\n",
      "Experience creating and using advanced machine learning algorithms\n",
      "\n",
      "\n",
      "What We Offer\n",
      "\n",
      "\n",
      "Competitive compensation package\n",
      "Casual Fridays and major holidays off\n",
      "Flexible work environment with a close-knit family feel\n",
      "Paid time off, company-sponsored 401k, and employee health and wellness benefits\n",
      "Company luncheons, outings, after-hour events, and team building festivities\n",
      "Workplace perks such as healthy snacks, fresh brewed organic coffee, and employee discounts\n",
      "Company sponsored gym membership\n",
      "Company provided parking\n",
      "Last, but not least, you will get to work with an amazing group of people!\n",
      "\n",
      "If you have the experience, drive to succeed and have a can-do attitude then we are looking for you. *Please only apply to the position using the following link: https://dot818.bamboohr.com/jobs/view.php?id=23&source=aWQ9MTk%3D*\n",
      "\n",
      "\n"
     ]
    }
   ],
   "source": [
    "print(data)"
   ]
  },
  {
   "cell_type": "code",
   "execution_count": 9,
   "metadata": {},
   "outputs": [],
   "source": [
    "# Convert the text to lowercase\n",
    "data = data.lower()"
   ]
  },
  {
   "cell_type": "markdown",
   "metadata": {},
   "source": [
    "# Finding total number of words and punctuation in the text"
   ]
  },
  {
   "cell_type": "code",
   "execution_count": 10,
   "metadata": {},
   "outputs": [],
   "source": [
    "tokens = nltk.word_tokenize(data)"
   ]
  },
  {
   "cell_type": "code",
   "execution_count": 11,
   "metadata": {},
   "outputs": [
    {
     "name": "stdout",
     "output_type": "stream",
     "text": [
      "550\n"
     ]
    }
   ],
   "source": [
    "print(len(tokens))"
   ]
  },
  {
   "cell_type": "code",
   "execution_count": 16,
   "metadata": {},
   "outputs": [],
   "source": [
    "# Removing Stop-words\n",
    "stop = set(stopwords.words('english'))"
   ]
  },
  {
   "cell_type": "code",
   "execution_count": 13,
   "metadata": {},
   "outputs": [],
   "source": [
    "token_list1 = []"
   ]
  },
  {
   "cell_type": "code",
   "execution_count": 14,
   "metadata": {},
   "outputs": [],
   "source": [
    "for token in tokens:\n",
    "    if token not in stop:\n",
    "        token_list1.append(token)"
   ]
  },
  {
   "cell_type": "code",
   "execution_count": 15,
   "metadata": {},
   "outputs": [
    {
     "name": "stdout",
     "output_type": "stream",
     "text": [
      "378\n"
     ]
    }
   ],
   "source": [
    "print(len(token_list1))"
   ]
  },
  {
   "cell_type": "code",
   "execution_count": 43,
   "metadata": {},
   "outputs": [],
   "source": [
    "# Removing punctuation\n",
    "punctuation = re.compile(r'[-.?!,\":;()|0-9]'+\"'\")"
   ]
  },
  {
   "cell_type": "code",
   "execution_count": 44,
   "metadata": {},
   "outputs": [],
   "source": [
    "token_list2 = []"
   ]
  },
  {
   "cell_type": "code",
   "execution_count": 45,
   "metadata": {},
   "outputs": [],
   "source": [
    "for token in token_list1:\n",
    "    word = punctuation.sub(\"\", token)\n",
    "    if len(word)>0:\n",
    "        token_list2.append(word)"
   ]
  },
  {
   "cell_type": "code",
   "execution_count": 46,
   "metadata": {},
   "outputs": [
    {
     "name": "stdout",
     "output_type": "stream",
     "text": [
      "378\n"
     ]
    }
   ],
   "source": [
    "print(len(token_list2))"
   ]
  },
  {
   "cell_type": "code",
   "execution_count": 47,
   "metadata": {},
   "outputs": [],
   "source": [
    "tokens_pos_tag = nltk.pos_tag(token_list2)"
   ]
  },
  {
   "cell_type": "code",
   "execution_count": 48,
   "metadata": {},
   "outputs": [],
   "source": [
    "pos_df = pd.DataFrame(tokens_pos_tag, columns = ('word','POS'))"
   ]
  },
  {
   "cell_type": "code",
   "execution_count": 49,
   "metadata": {},
   "outputs": [
    {
     "data": {
      "text/html": [
       "<div>\n",
       "<style scoped>\n",
       "    .dataframe tbody tr th:only-of-type {\n",
       "        vertical-align: middle;\n",
       "    }\n",
       "\n",
       "    .dataframe tbody tr th {\n",
       "        vertical-align: top;\n",
       "    }\n",
       "\n",
       "    .dataframe thead th {\n",
       "        text-align: right;\n",
       "    }\n",
       "</style>\n",
       "<table border=\"1\" class=\"dataframe\">\n",
       "  <thead>\n",
       "    <tr style=\"text-align: right;\">\n",
       "      <th></th>\n",
       "      <th>word</th>\n",
       "      <th>POS</th>\n",
       "    </tr>\n",
       "  </thead>\n",
       "  <tbody>\n",
       "    <tr>\n",
       "      <td>0</td>\n",
       "      <td>job</td>\n",
       "      <td>NN</td>\n",
       "    </tr>\n",
       "    <tr>\n",
       "      <td>1</td>\n",
       "      <td>description</td>\n",
       "      <td>NN</td>\n",
       "    </tr>\n",
       "    <tr>\n",
       "      <td>2</td>\n",
       "      <td>find</td>\n",
       "      <td>VBP</td>\n",
       "    </tr>\n",
       "    <tr>\n",
       "      <td>3</td>\n",
       "      <td>searching</td>\n",
       "      <td>VBG</td>\n",
       "    </tr>\n",
       "    <tr>\n",
       "      <td>4</td>\n",
       "      <td>truly</td>\n",
       "      <td>RB</td>\n",
       "    </tr>\n",
       "  </tbody>\n",
       "</table>\n",
       "</div>"
      ],
      "text/plain": [
       "          word  POS\n",
       "0          job   NN\n",
       "1  description   NN\n",
       "2         find  VBP\n",
       "3    searching  VBG\n",
       "4        truly   RB"
      ]
     },
     "execution_count": 49,
     "metadata": {},
     "output_type": "execute_result"
    }
   ],
   "source": [
    "pos_df.head()"
   ]
  },
  {
   "cell_type": "code",
   "execution_count": 50,
   "metadata": {},
   "outputs": [],
   "source": [
    "# group by POS tags\n",
    "pos_sum = pos_df.groupby('POS', as_index=False).count() "
   ]
  },
  {
   "cell_type": "code",
   "execution_count": 51,
   "metadata": {},
   "outputs": [
    {
     "data": {
      "text/html": [
       "<div>\n",
       "<style scoped>\n",
       "    .dataframe tbody tr th:only-of-type {\n",
       "        vertical-align: middle;\n",
       "    }\n",
       "\n",
       "    .dataframe tbody tr th {\n",
       "        vertical-align: top;\n",
       "    }\n",
       "\n",
       "    .dataframe thead th {\n",
       "        text-align: right;\n",
       "    }\n",
       "</style>\n",
       "<table border=\"1\" class=\"dataframe\">\n",
       "  <thead>\n",
       "    <tr style=\"text-align: right;\">\n",
       "      <th></th>\n",
       "      <th>POS</th>\n",
       "      <th>word</th>\n",
       "    </tr>\n",
       "  </thead>\n",
       "  <tbody>\n",
       "    <tr>\n",
       "      <td>11</td>\n",
       "      <td>NN</td>\n",
       "      <td>114</td>\n",
       "    </tr>\n",
       "    <tr>\n",
       "      <td>8</td>\n",
       "      <td>JJ</td>\n",
       "      <td>69</td>\n",
       "    </tr>\n",
       "    <tr>\n",
       "      <td>13</td>\n",
       "      <td>NNS</td>\n",
       "      <td>55</td>\n",
       "    </tr>\n",
       "    <tr>\n",
       "      <td>2</td>\n",
       "      <td>,</td>\n",
       "      <td>32</td>\n",
       "    </tr>\n",
       "    <tr>\n",
       "      <td>18</td>\n",
       "      <td>VBG</td>\n",
       "      <td>26</td>\n",
       "    </tr>\n",
       "    <tr>\n",
       "      <td>20</td>\n",
       "      <td>VBP</td>\n",
       "      <td>16</td>\n",
       "    </tr>\n",
       "    <tr>\n",
       "      <td>16</td>\n",
       "      <td>VB</td>\n",
       "      <td>16</td>\n",
       "    </tr>\n",
       "    <tr>\n",
       "      <td>3</td>\n",
       "      <td>.</td>\n",
       "      <td>14</td>\n",
       "    </tr>\n",
       "    <tr>\n",
       "      <td>14</td>\n",
       "      <td>RB</td>\n",
       "      <td>7</td>\n",
       "    </tr>\n",
       "    <tr>\n",
       "      <td>7</td>\n",
       "      <td>IN</td>\n",
       "      <td>4</td>\n",
       "    </tr>\n",
       "    <tr>\n",
       "      <td>17</td>\n",
       "      <td>VBD</td>\n",
       "      <td>3</td>\n",
       "    </tr>\n",
       "    <tr>\n",
       "      <td>21</td>\n",
       "      <td>VBZ</td>\n",
       "      <td>3</td>\n",
       "    </tr>\n",
       "    <tr>\n",
       "      <td>9</td>\n",
       "      <td>JJS</td>\n",
       "      <td>3</td>\n",
       "    </tr>\n",
       "    <tr>\n",
       "      <td>6</td>\n",
       "      <td>CD</td>\n",
       "      <td>3</td>\n",
       "    </tr>\n",
       "    <tr>\n",
       "      <td>4</td>\n",
       "      <td>:</td>\n",
       "      <td>3</td>\n",
       "    </tr>\n",
       "    <tr>\n",
       "      <td>12</td>\n",
       "      <td>NNP</td>\n",
       "      <td>2</td>\n",
       "    </tr>\n",
       "    <tr>\n",
       "      <td>5</td>\n",
       "      <td>CC</td>\n",
       "      <td>2</td>\n",
       "    </tr>\n",
       "    <tr>\n",
       "      <td>19</td>\n",
       "      <td>VBN</td>\n",
       "      <td>2</td>\n",
       "    </tr>\n",
       "    <tr>\n",
       "      <td>1</td>\n",
       "      <td>)</td>\n",
       "      <td>1</td>\n",
       "    </tr>\n",
       "    <tr>\n",
       "      <td>10</td>\n",
       "      <td>MD</td>\n",
       "      <td>1</td>\n",
       "    </tr>\n",
       "    <tr>\n",
       "      <td>15</td>\n",
       "      <td>RBR</td>\n",
       "      <td>1</td>\n",
       "    </tr>\n",
       "    <tr>\n",
       "      <td>0</td>\n",
       "      <td>(</td>\n",
       "      <td>1</td>\n",
       "    </tr>\n",
       "  </tbody>\n",
       "</table>\n",
       "</div>"
      ],
      "text/plain": [
       "    POS  word\n",
       "11   NN   114\n",
       "8    JJ    69\n",
       "13  NNS    55\n",
       "2     ,    32\n",
       "18  VBG    26\n",
       "20  VBP    16\n",
       "16   VB    16\n",
       "3     .    14\n",
       "14   RB     7\n",
       "7    IN     4\n",
       "17  VBD     3\n",
       "21  VBZ     3\n",
       "9   JJS     3\n",
       "6    CD     3\n",
       "4     :     3\n",
       "12  NNP     2\n",
       "5    CC     2\n",
       "19  VBN     2\n",
       "1     )     1\n",
       "10   MD     1\n",
       "15  RBR     1\n",
       "0     (     1"
      ]
     },
     "execution_count": 51,
     "metadata": {},
     "output_type": "execute_result"
    }
   ],
   "source": [
    "# in descending order of number of words per tag\n",
    "pos_sum.sort_values(['word'], ascending=[False]) "
   ]
  },
  {
   "cell_type": "code",
   "execution_count": 52,
   "metadata": {},
   "outputs": [],
   "source": [
    "#filtering nouns out of all the words\n",
    "filtered_pos = []"
   ]
  },
  {
   "cell_type": "code",
   "execution_count": 53,
   "metadata": {},
   "outputs": [],
   "source": [
    "for one in tokens_pos_tag:\n",
    "    if one[1] == 'NN' or one[1] == 'NNS' or one[1] == 'NNP' or one[1] == 'NNPS':\n",
    "        filtered_pos.append(one)"
   ]
  },
  {
   "cell_type": "code",
   "execution_count": 54,
   "metadata": {},
   "outputs": [
    {
     "name": "stdout",
     "output_type": "stream",
     "text": [
      "171\n"
     ]
    }
   ],
   "source": [
    "print (len(filtered_pos))"
   ]
  },
  {
   "cell_type": "code",
   "execution_count": 55,
   "metadata": {},
   "outputs": [],
   "source": [
    "#Finding most frequent words"
   ]
  },
  {
   "cell_type": "code",
   "execution_count": 56,
   "metadata": {},
   "outputs": [],
   "source": [
    "fdist_pos = nltk.FreqDist(filtered_pos)"
   ]
  },
  {
   "cell_type": "code",
   "execution_count": 57,
   "metadata": {},
   "outputs": [],
   "source": [
    "top_100_words = fdist_pos.most_common(100)"
   ]
  },
  {
   "cell_type": "code",
   "execution_count": 58,
   "metadata": {},
   "outputs": [
    {
     "name": "stdout",
     "output_type": "stream",
     "text": [
      "[(('data', 'NNS'), 9), (('models', 'NNS'), 6), (('team', 'NN'), 5), (('experience', 'NN'), 5), (('risk', 'NN'), 4), (('industry', 'NN'), 4), (('job', 'NN'), 3), (('core', 'NN'), 3), (('company', 'NN'), 3), (('environment', 'NN'), 2), (('attitude', 'NN'), 2), (('analyst', 'NN'), 2), (('lending', 'NN'), 2), (('’', 'NNP'), 2), (('candidate', 'NN'), 2), (('building', 'NN'), 2), (('tools', 'NNS'), 2), (('underwriting', 'NN'), 2), (('assessment', 'NN'), 2), (('opportunities', 'NNS'), 2), (('science', 'NN'), 2), (('machine', 'NN'), 2), (('skills', 'NNS'), 2), (('work', 'NN'), 2), (('employee', 'NN'), 2), (('description', 'NN'), 1), (('challenge', 'NN'), 1), (('opportunity', 'NN'), 1), (('join', 'NN'), 1), (('’', 'NN'), 1), (('kind', 'NN'), 1), (('–', 'NN'), 1), (('someone', 'NN'), 1), (('projects', 'NNS'), 1), (('hungers', 'NNS'), 1), (('box', 'NN'), 1), (('care', 'NN'), 1), (('values', 'NNS'), 1), (('commitment', 'NN'), 1), (('success', 'NN'), 1), (('relationships', 'NNS'), 1), (('effort', 'NN'), 1), (('focus', 'NN'), 1), (('client', 'NN'), 1), (('sounds', 'NNS'), 1), (('dream', 'NN'), 1), (('step', 'NN'), 1), (('domain', 'NN'), 1), (('specific', 'NN'), 1), (('analysis', 'NN'), 1), (('practices', 'NNS'), 1), (('frameworks', 'NNS'), 1), (('dashboards', 'NNS'), 1), (('requirements', 'NNS'), 1), (('credit', 'NN'), 1), (('metrics', 'NNS'), 1), (('interaction', 'NN'), 1), (('architecture', 'NN'), 1), (('optimization', 'NN'), 1), (('modeling', 'NN'), 1), (('implement', 'NN'), 1), (('custom', 'NN'), 1), (('model', 'NN'), 1), (('performance', 'NN'), 1), (('accuracy', 'NN'), 1), (('sets', 'NNS'), 1), (('customers', 'NNS'), 1), (('product', 'NN'), 1), (('changes', 'NNS'), 1), (('analytics', 'NNS'), 1), (('qualifications', 'NNS'), 1), (('computer', 'NN'), 1), (('statistics', 'NNS'), 1), (('mathematics', 'NNS'), 1), (('discipline', 'NN'), 1), (('years', 'NNS'), 1), (('fintech', 'NN'), 1), (('variables', 'NNS'), 1), (('knowledge', 'NN'), 1), (('r', 'NN'), 1), (('python', 'NN'), 1), (('intuition', 'NN'), 1), (('understanding', 'NN'), 1), (('principles', 'NNS'), 1), (('methods', 'NNS'), 1), (('techniques', 'NNS'), 1), (('concepts', 'NNS'), 1), (('ability', 'NN'), 1), (('prioritize', 'NN'), 1), (('culture', 'NN'), 1), (('thinker', 'NN'), 1), (('problem', 'NN'), 1), (('communication', 'NN'), 1), (('offer', 'NN'), 1), (('compensation', 'NN'), 1), (('package', 'NN'), 1), (('fridays', 'NNS'), 1), (('holidays', 'NNS'), 1), (('family', 'NN'), 1), (('time', 'NN'), 1)]\n"
     ]
    }
   ],
   "source": [
    "print(top_100_words)"
   ]
  },
  {
   "cell_type": "code",
   "execution_count": 59,
   "metadata": {},
   "outputs": [],
   "source": [
    "top_words_df = pd.DataFrame(top_100_words, columns = ('pos','count'))"
   ]
  },
  {
   "cell_type": "code",
   "execution_count": 60,
   "metadata": {},
   "outputs": [
    {
     "data": {
      "text/html": [
       "<div>\n",
       "<style scoped>\n",
       "    .dataframe tbody tr th:only-of-type {\n",
       "        vertical-align: middle;\n",
       "    }\n",
       "\n",
       "    .dataframe tbody tr th {\n",
       "        vertical-align: top;\n",
       "    }\n",
       "\n",
       "    .dataframe thead th {\n",
       "        text-align: right;\n",
       "    }\n",
       "</style>\n",
       "<table border=\"1\" class=\"dataframe\">\n",
       "  <thead>\n",
       "    <tr style=\"text-align: right;\">\n",
       "      <th></th>\n",
       "      <th>pos</th>\n",
       "      <th>count</th>\n",
       "    </tr>\n",
       "  </thead>\n",
       "  <tbody>\n",
       "    <tr>\n",
       "      <td>0</td>\n",
       "      <td>(data, NNS)</td>\n",
       "      <td>9</td>\n",
       "    </tr>\n",
       "    <tr>\n",
       "      <td>1</td>\n",
       "      <td>(models, NNS)</td>\n",
       "      <td>6</td>\n",
       "    </tr>\n",
       "    <tr>\n",
       "      <td>2</td>\n",
       "      <td>(team, NN)</td>\n",
       "      <td>5</td>\n",
       "    </tr>\n",
       "    <tr>\n",
       "      <td>3</td>\n",
       "      <td>(experience, NN)</td>\n",
       "      <td>5</td>\n",
       "    </tr>\n",
       "    <tr>\n",
       "      <td>4</td>\n",
       "      <td>(risk, NN)</td>\n",
       "      <td>4</td>\n",
       "    </tr>\n",
       "  </tbody>\n",
       "</table>\n",
       "</div>"
      ],
      "text/plain": [
       "                pos  count\n",
       "0       (data, NNS)      9\n",
       "1     (models, NNS)      6\n",
       "2        (team, NN)      5\n",
       "3  (experience, NN)      5\n",
       "4        (risk, NN)      4"
      ]
     },
     "execution_count": 60,
     "metadata": {},
     "output_type": "execute_result"
    }
   ],
   "source": [
    "top_words_df.head()"
   ]
  },
  {
   "cell_type": "code",
   "execution_count": 61,
   "metadata": {},
   "outputs": [],
   "source": [
    "# split the tuple of POS\n",
    "top_words_df['Word'] = top_words_df['pos'].apply(lambda x: x[0]) "
   ]
  },
  {
   "cell_type": "code",
   "execution_count": 62,
   "metadata": {},
   "outputs": [],
   "source": [
    " # drop the previous column\n",
    "top_words_df = top_words_df.drop('pos', 1)"
   ]
  },
  {
   "cell_type": "code",
   "execution_count": 63,
   "metadata": {},
   "outputs": [
    {
     "data": {
      "text/html": [
       "<div>\n",
       "<style scoped>\n",
       "    .dataframe tbody tr th:only-of-type {\n",
       "        vertical-align: middle;\n",
       "    }\n",
       "\n",
       "    .dataframe tbody tr th {\n",
       "        vertical-align: top;\n",
       "    }\n",
       "\n",
       "    .dataframe thead th {\n",
       "        text-align: right;\n",
       "    }\n",
       "</style>\n",
       "<table border=\"1\" class=\"dataframe\">\n",
       "  <thead>\n",
       "    <tr style=\"text-align: right;\">\n",
       "      <th></th>\n",
       "      <th>count</th>\n",
       "      <th>Word</th>\n",
       "    </tr>\n",
       "  </thead>\n",
       "  <tbody>\n",
       "    <tr>\n",
       "      <td>0</td>\n",
       "      <td>9</td>\n",
       "      <td>data</td>\n",
       "    </tr>\n",
       "    <tr>\n",
       "      <td>1</td>\n",
       "      <td>6</td>\n",
       "      <td>models</td>\n",
       "    </tr>\n",
       "    <tr>\n",
       "      <td>2</td>\n",
       "      <td>5</td>\n",
       "      <td>team</td>\n",
       "    </tr>\n",
       "    <tr>\n",
       "      <td>3</td>\n",
       "      <td>5</td>\n",
       "      <td>experience</td>\n",
       "    </tr>\n",
       "    <tr>\n",
       "      <td>4</td>\n",
       "      <td>4</td>\n",
       "      <td>risk</td>\n",
       "    </tr>\n",
       "  </tbody>\n",
       "</table>\n",
       "</div>"
      ],
      "text/plain": [
       "   count        Word\n",
       "0      9        data\n",
       "1      6      models\n",
       "2      5        team\n",
       "3      5  experience\n",
       "4      4        risk"
      ]
     },
     "execution_count": 63,
     "metadata": {},
     "output_type": "execute_result"
    }
   ],
   "source": [
    "top_words_df.head()"
   ]
  },
  {
   "cell_type": "code",
   "execution_count": 83,
   "metadata": {},
   "outputs": [],
   "source": [
    "d ={}\n",
    "for a,x in tuples_pos:\n",
    "    d[a] = x"
   ]
  },
  {
   "cell_type": "code",
   "execution_count": 84,
   "metadata": {},
   "outputs": [
    {
     "data": {
      "image/png": "[encoded data removed]",
      "text/plain": [
       "<Figure size 432x288 with 1 Axes>"
      ]
     },
     "metadata": {
      "needs_background": "light"
     },
     "output_type": "display_data"
    }
   ],
   "source": [
    "import matplotlib.pyplot as plt\n",
    "from wordcloud import WordCloud\n",
    "\n",
    "wordcloud = WordCloud()\n",
    "wordcloud.generate_from_frequencies(frequencies=d)\n",
    "plt.figure()\n",
    "plt.imshow(wordcloud, interpolation=\"bilinear\")\n",
    "plt.axis(\"off\")\n",
    "plt.show()"
   ]
  },
  {
   "cell_type": "code",
   "execution_count": 64,
   "metadata": {},
   "outputs": [],
   "source": [
    "subset_pos = top_words_df[['Word', 'count']]"
   ]
  },
  {
   "cell_type": "code",
   "execution_count": 77,
   "metadata": {},
   "outputs": [],
   "source": [
    "tuples_pos = [tuple(x) for x in subset_pos.values]"
   ]
  },
  {
   "cell_type": "code",
   "execution_count": 78,
   "metadata": {},
   "outputs": [
    {
     "name": "stdout",
     "output_type": "stream",
     "text": [
      "<class 'list'>\n"
     ]
    }
   ],
   "source": [
    "print(type(tuples_pos))"
   ]
  },
  {
   "cell_type": "code",
   "execution_count": 79,
   "metadata": {},
   "outputs": [
    {
     "name": "stdout",
     "output_type": "stream",
     "text": [
      "<class 'tuple'>\n"
     ]
    }
   ],
   "source": [
    "print(type(tuples_pos[1]))"
   ]
  },
  {
   "cell_type": "code",
   "execution_count": 80,
   "metadata": {},
   "outputs": [
    {
     "name": "stdout",
     "output_type": "stream",
     "text": [
      "{'data': [9], 'models': [6], 'team': [5], 'experience': [5], 'risk': [4], 'industry': [4], 'job': [3], 'core': [3], 'company': [3], 'environment': [2], 'attitude': [2], 'analyst': [2], 'lending': [2], '’': [2, 1], 'candidate': [2], 'building': [2], 'tools': [2], 'underwriting': [2], 'assessment': [2], 'opportunities': [2], 'science': [2], 'machine': [2], 'skills': [2], 'work': [2], 'employee': [2], 'description': [1], 'challenge': [1], 'opportunity': [1], 'join': [1], 'kind': [1], '–': [1], 'someone': [1], 'projects': [1], 'hungers': [1], 'box': [1], 'care': [1], 'values': [1], 'commitment': [1], 'success': [1], 'relationships': [1], 'effort': [1], 'focus': [1], 'client': [1], 'sounds': [1], 'dream': [1], 'step': [1], 'domain': [1], 'specific': [1], 'analysis': [1], 'practices': [1], 'frameworks': [1], 'dashboards': [1], 'requirements': [1], 'credit': [1], 'metrics': [1], 'interaction': [1], 'architecture': [1], 'optimization': [1], 'modeling': [1], 'implement': [1], 'custom': [1], 'model': [1], 'performance': [1], 'accuracy': [1], 'sets': [1], 'customers': [1], 'product': [1], 'changes': [1], 'analytics': [1], 'qualifications': [1], 'computer': [1], 'statistics': [1], 'mathematics': [1], 'discipline': [1], 'years': [1], 'fintech': [1], 'variables': [1], 'knowledge': [1], 'r': [1], 'python': [1], 'intuition': [1], 'understanding': [1], 'principles': [1], 'methods': [1], 'techniques': [1], 'concepts': [1], 'ability': [1], 'prioritize': [1], 'culture': [1], 'thinker': [1], 'problem': [1], 'communication': [1], 'offer': [1], 'compensation': [1], 'package': [1], 'fridays': [1], 'holidays': [1], 'family': [1], 'time': [1]}\n"
     ]
    }
   ],
   "source": [
    "def Convert(tup, di): \n",
    "    for a, b in tup: \n",
    "        di.setdefault(a, []).append(b) \n",
    "    return di \n",
    "      \n",
    "# Driver Code     \n",
    "tups = [(\"akash\", 10), (\"gaurav\", 12), (\"anand\", 14),  \n",
    "     (\"suraj\", 20), (\"akhil\", 25), (\"ashish\", 30)] \n",
    "dictionary = {} \n",
    "print (Convert(tuples_pos, dictionary)) "
   ]
  },
  {
   "cell_type": "code",
   "execution_count": 75,
   "metadata": {},
   "outputs": [
    {
     "data": {
      "text/plain": [
       "{('ability', 1),\n",
       " ('accuracy', 1),\n",
       " ('analysis', 1),\n",
       " ('analyst', 2),\n",
       " ('analytics', 1),\n",
       " ('architecture', 1),\n",
       " ('assessment', 2),\n",
       " ('attitude', 2),\n",
       " ('box', 1),\n",
       " ('building', 2),\n",
       " ('candidate', 2),\n",
       " ('care', 1),\n",
       " ('challenge', 1),\n",
       " ('changes', 1),\n",
       " ('client', 1),\n",
       " ('commitment', 1),\n",
       " ('communication', 1),\n",
       " ('company', 3),\n",
       " ('compensation', 1),\n",
       " ('computer', 1),\n",
       " ('concepts', 1),\n",
       " ('core', 3),\n",
       " ('credit', 1),\n",
       " ('culture', 1),\n",
       " ('custom', 1),\n",
       " ('customers', 1),\n",
       " ('dashboards', 1),\n",
       " ('data', 9),\n",
       " ('description', 1),\n",
       " ('discipline', 1),\n",
       " ('domain', 1),\n",
       " ('dream', 1),\n",
       " ('effort', 1),\n",
       " ('employee', 2),\n",
       " ('environment', 2),\n",
       " ('experience', 5),\n",
       " ('family', 1),\n",
       " ('fintech', 1),\n",
       " ('focus', 1),\n",
       " ('frameworks', 1),\n",
       " ('fridays', 1),\n",
       " ('holidays', 1),\n",
       " ('hungers', 1),\n",
       " ('implement', 1),\n",
       " ('industry', 4),\n",
       " ('interaction', 1),\n",
       " ('intuition', 1),\n",
       " ('job', 3),\n",
       " ('join', 1),\n",
       " ('kind', 1),\n",
       " ('knowledge', 1),\n",
       " ('lending', 2),\n",
       " ('machine', 2),\n",
       " ('mathematics', 1),\n",
       " ('methods', 1),\n",
       " ('metrics', 1),\n",
       " ('model', 1),\n",
       " ('modeling', 1),\n",
       " ('models', 6),\n",
       " ('offer', 1),\n",
       " ('opportunities', 2),\n",
       " ('opportunity', 1),\n",
       " ('optimization', 1),\n",
       " ('package', 1),\n",
       " ('performance', 1),\n",
       " ('practices', 1),\n",
       " ('principles', 1),\n",
       " ('prioritize', 1),\n",
       " ('problem', 1),\n",
       " ('product', 1),\n",
       " ('projects', 1),\n",
       " ('python', 1),\n",
       " ('qualifications', 1),\n",
       " ('r', 1),\n",
       " ('relationships', 1),\n",
       " ('requirements', 1),\n",
       " ('risk', 4),\n",
       " ('science', 2),\n",
       " ('sets', 1),\n",
       " ('skills', 2),\n",
       " ('someone', 1),\n",
       " ('sounds', 1),\n",
       " ('specific', 1),\n",
       " ('statistics', 1),\n",
       " ('step', 1),\n",
       " ('success', 1),\n",
       " ('team', 5),\n",
       " ('techniques', 1),\n",
       " ('thinker', 1),\n",
       " ('time', 1),\n",
       " ('tools', 2),\n",
       " ('understanding', 1),\n",
       " ('underwriting', 2),\n",
       " ('values', 1),\n",
       " ('variables', 1),\n",
       " ('work', 2),\n",
       " ('years', 1),\n",
       " ('–', 1),\n",
       " ('’', 1),\n",
       " ('’', 2)}"
      ]
     },
     "execution_count": 75,
     "metadata": {},
     "output_type": "execute_result"
    }
   ],
   "source": [
    "tuples_pos"
   ]
  },
  {
   "cell_type": "code",
   "execution_count": 67,
   "metadata": {},
   "outputs": [],
   "source": [
    "wordcloud = WordCloud()"
   ]
  },
  {
   "cell_type": "code",
   "execution_count": 81,
   "metadata": {},
   "outputs": [
    {
     "ename": "TypeError",
     "evalue": "float() argument must be a string or a number, not 'list'",
     "output_type": "error",
     "traceback": [
      "\u001b[0;31m---------------------------------------------------------------------------\u001b[0m",
      "\u001b[0;31mTypeError\u001b[0m                                 Traceback (most recent call last)",
      "\u001b[0;32m<ipython-input-81-11c5e5c6e97a>\u001b[0m in \u001b[0;36m<module>\u001b[0;34m\u001b[0m\n\u001b[0;32m----> 1\u001b[0;31m \u001b[0mwordcloud\u001b[0m\u001b[0;34m.\u001b[0m\u001b[0mgenerate_from_frequencies\u001b[0m\u001b[0;34m(\u001b[0m\u001b[0mdictionary\u001b[0m\u001b[0;34m)\u001b[0m\u001b[0;34m\u001b[0m\u001b[0;34m\u001b[0m\u001b[0m\n\u001b[0m",
      "\u001b[0;32m~/opt/anaconda3/lib/python3.7/site-packages/wordcloud/wordcloud.py\u001b[0m in \u001b[0;36mgenerate_from_frequencies\u001b[0;34m(self, frequencies, max_font_size)\u001b[0m\n\u001b[1;32m    406\u001b[0m \u001b[0;34m\u001b[0m\u001b[0m\n\u001b[1;32m    407\u001b[0m         \u001b[0;31m# largest entry will be 1\u001b[0m\u001b[0;34m\u001b[0m\u001b[0;34m\u001b[0m\u001b[0;34m\u001b[0m\u001b[0m\n\u001b[0;32m--> 408\u001b[0;31m         \u001b[0mmax_frequency\u001b[0m \u001b[0;34m=\u001b[0m \u001b[0mfloat\u001b[0m\u001b[0;34m(\u001b[0m\u001b[0mfrequencies\u001b[0m\u001b[0;34m[\u001b[0m\u001b[0;36m0\u001b[0m\u001b[0;34m]\u001b[0m\u001b[0;34m[\u001b[0m\u001b[0;36m1\u001b[0m\u001b[0;34m]\u001b[0m\u001b[0;34m)\u001b[0m\u001b[0;34m\u001b[0m\u001b[0;34m\u001b[0m\u001b[0m\n\u001b[0m\u001b[1;32m    409\u001b[0m \u001b[0;34m\u001b[0m\u001b[0m\n\u001b[1;32m    410\u001b[0m         frequencies = [(word, freq / max_frequency)\n",
      "\u001b[0;31mTypeError\u001b[0m: float() argument must be a string or a number, not 'list'"
     ]
    }
   ],
   "source": [
    "wordcloud.generate_from_frequencies(dictionary)"
   ]
  },
  {
   "cell_type": "code",
   "execution_count": null,
   "metadata": {},
   "outputs": [],
   "source": []
  }
 ],
 "metadata": {
  "kernelspec": {
   "display_name": "Python 3",
   "language": "python",
   "name": "python3"
  },
  "language_info": {
   "codemirror_mode": {
    "name": "ipython",
    "version": 3
   },
   "file_extension": ".py",
   "mimetype": "text/x-python",
   "name": "python",
   "nbconvert_exporter": "python",
   "pygments_lexer": "ipython3",
   "version": "3.7.4"
  }
 },
 "nbformat": 4,
 "nbformat_minor": 2
}
