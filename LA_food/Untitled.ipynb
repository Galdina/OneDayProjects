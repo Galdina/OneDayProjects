{
 "cells": [
  {
   "cell_type": "code",
   "execution_count": 3,
   "metadata": {},
   "outputs": [
    {
     "data": {
      "text/html": [
       "        <script type=\"text/javascript\">\n",
       "        window.PlotlyConfig = {MathJaxConfig: 'local'};\n",
       "        if (window.MathJax) {MathJax.Hub.Config({SVG: {font: \"STIX-Web\"}});}\n",
       "        if (typeof require !== 'undefined') {\n",
       "        require.undef(\"plotly\");\n",
       "        requirejs.config({\n",
       "            paths: {\n",
       "                'plotly': ['https://cdn.plot.ly/plotly-latest.min']\n",
       "            }\n",
       "        });\n",
       "        require(['plotly'], function(Plotly) {\n",
       "            window._Plotly = Plotly;\n",
       "        });\n",
       "        }\n",
       "        </script>\n",
       "        "
      ]
     },
     "metadata": {},
     "output_type": "display_data"
    },
    {
     "data": {
      "text/html": [
       "        <script type=\"text/javascript\">\n",
       "        window.PlotlyConfig = {MathJaxConfig: 'local'};\n",
       "        if (window.MathJax) {MathJax.Hub.Config({SVG: {font: \"STIX-Web\"}});}\n",
       "        if (typeof require !== 'undefined') {\n",
       "        require.undef(\"plotly\");\n",
       "        requirejs.config({\n",
       "            paths: {\n",
       "                'plotly': ['https://cdn.plot.ly/plotly-latest.min']\n",
       "            }\n",
       "        });\n",
       "        require(['plotly'], function(Plotly) {\n",
       "            window._Plotly = Plotly;\n",
       "        });\n",
       "        }\n",
       "        </script>\n",
       "        "
      ]
     },
     "metadata": {},
     "output_type": "display_data"
    }
   ],
   "source": [
    "#import libraries\n",
    "import geopandas as gpd\n",
    "import numpy as np \n",
    "import pandas as pd \n",
    "import datetime as dt\n",
    "import matplotlib.pyplot as plt\n",
    "import seaborn as sns\n",
    "\n",
    "import plotly.express as px\n",
    "import plotly.figure_factory as ff\n",
    "import plotly.colors\n",
    "\n",
    "import cufflinks as cf\n",
    "from plotly.offline import download_plotlyjs, init_notebook_mode, plot, iplot\n",
    "init_notebook_mode(connected=True)\n",
    "cf.go_offline()\n",
    "import plotly.graph_objs as go\n",
    "from plotly.subplots import make_subplots\n",
    "import plotly.io as pio"
   ]
  },
  {
   "cell_type": "code",
   "execution_count": 2,
   "metadata": {},
   "outputs": [
    {
     "data": {
      "text/html": [
       "<div>\n",
       "<style scoped>\n",
       "    .dataframe tbody tr th:only-of-type {\n",
       "        vertical-align: middle;\n",
       "    }\n",
       "\n",
       "    .dataframe tbody tr th {\n",
       "        vertical-align: top;\n",
       "    }\n",
       "\n",
       "    .dataframe thead th {\n",
       "        text-align: right;\n",
       "    }\n",
       "</style>\n",
       "<table border=\"1\" class=\"dataframe\">\n",
       "  <thead>\n",
       "    <tr style=\"text-align: right;\">\n",
       "      <th></th>\n",
       "      <th>Map Order</th>\n",
       "      <th>Name</th>\n",
       "      <th>Number</th>\n",
       "      <th>Street</th>\n",
       "      <th>City</th>\n",
       "      <th>State</th>\n",
       "      <th>Zip</th>\n",
       "      <th>Full Address</th>\n",
       "      <th>Phone Number</th>\n",
       "      <th>Type</th>\n",
       "      <th>Source</th>\n",
       "      <th>Latitude</th>\n",
       "      <th>Longitude</th>\n",
       "    </tr>\n",
       "  </thead>\n",
       "  <tbody>\n",
       "    <tr>\n",
       "      <td>0</td>\n",
       "      <td>1</td>\n",
       "      <td>Catholic Charities of Los Angeles - St. Robert...</td>\n",
       "      <td>211</td>\n",
       "      <td>3rd Ave</td>\n",
       "      <td>Los Angeles</td>\n",
       "      <td>CA</td>\n",
       "      <td>90291</td>\n",
       "      <td>211 3rd Ave, Los Angeles, CA</td>\n",
       "      <td>(310) 392-8701</td>\n",
       "      <td>Food Pantry</td>\n",
       "      <td>Los Angeles County</td>\n",
       "      <td>33.996901</td>\n",
       "      <td>-118.476440</td>\n",
       "    </tr>\n",
       "    <tr>\n",
       "      <td>1</td>\n",
       "      <td>2</td>\n",
       "      <td>Los Angeles County Workforce Development, Agin...</td>\n",
       "      <td>133</td>\n",
       "      <td>N Sunol Dr</td>\n",
       "      <td>Los Angeles</td>\n",
       "      <td>CA</td>\n",
       "      <td>90063</td>\n",
       "      <td>133 N Sunol Dr, Los Angeles, CA</td>\n",
       "      <td>(323) 260-2801</td>\n",
       "      <td>Food Pantry</td>\n",
       "      <td>Los Angeles County</td>\n",
       "      <td>34.038686</td>\n",
       "      <td>-118.177998</td>\n",
       "    </tr>\n",
       "    <tr>\n",
       "      <td>2</td>\n",
       "      <td>3</td>\n",
       "      <td>Bienestar Human Services</td>\n",
       "      <td>5326</td>\n",
       "      <td>E Beverly Blvd</td>\n",
       "      <td>Los Angeles</td>\n",
       "      <td>CA</td>\n",
       "      <td>90022</td>\n",
       "      <td>5326 E Beverly Blvd, Los Angeles, CA</td>\n",
       "      <td>(323) 727-7896</td>\n",
       "      <td>Food Pantry</td>\n",
       "      <td>Los Angeles County</td>\n",
       "      <td>34.029738</td>\n",
       "      <td>-118.149614</td>\n",
       "    </tr>\n",
       "  </tbody>\n",
       "</table>\n",
       "</div>"
      ],
      "text/plain": [
       "   Map Order                                               Name Number  \\\n",
       "0          1  Catholic Charities of Los Angeles - St. Robert...    211   \n",
       "1          2  Los Angeles County Workforce Development, Agin...    133   \n",
       "2          3                           Bienestar Human Services   5326   \n",
       "\n",
       "           Street         City State    Zip  \\\n",
       "0         3rd Ave  Los Angeles    CA  90291   \n",
       "1      N Sunol Dr  Los Angeles    CA  90063   \n",
       "2  E Beverly Blvd  Los Angeles    CA  90022   \n",
       "\n",
       "                           Full Address    Phone Number         Type  \\\n",
       "0          211 3rd Ave, Los Angeles, CA  (310) 392-8701  Food Pantry   \n",
       "1       133 N Sunol Dr, Los Angeles, CA  (323) 260-2801  Food Pantry   \n",
       "2  5326 E Beverly Blvd, Los Angeles, CA  (323) 727-7896  Food Pantry   \n",
       "\n",
       "               Source   Latitude   Longitude  \n",
       "0  Los Angeles County  33.996901 -118.476440  \n",
       "1  Los Angeles County  34.038686 -118.177998  \n",
       "2  Los Angeles County  34.029738 -118.149614  "
      ]
     },
     "execution_count": 2,
     "metadata": {},
     "output_type": "execute_result"
    }
   ],
   "source": [
    "# if we want to see all columns, we set this parametr on\n",
    "pd.set_option('display.max_columns', None)\n",
    "\n",
    "df = pd.read_csv(\"./data/Food_Pantries_in_City_of_LA.csv\")\n",
    "df.head(3)"
   ]
  },
  {
   "cell_type": "code",
   "execution_count": 4,
   "metadata": {},
   "outputs": [
    {
     "name": "stdout",
     "output_type": "stream",
     "text": [
      "Collecting arcgis\n",
      "  Downloading arcgis-1.8.4.tar.gz (2.7 MB)\n",
      "\u001b[K     |████████████████████████████████| 2.7 MB 4.9 MB/s eta 0:00:01\n",
      "\u001b[?25hRequirement already satisfied: six in /Users/marigaldina/opt/anaconda3/lib/python3.7/site-packages (from arcgis) (1.12.0)\n",
      "Requirement already satisfied: ipywidgets>=7 in /Users/marigaldina/opt/anaconda3/lib/python3.7/site-packages (from arcgis) (7.5.1)\n",
      "Requirement already satisfied: widgetsnbextension>=3 in /Users/marigaldina/opt/anaconda3/lib/python3.7/site-packages (from arcgis) (3.5.1)\n",
      "Collecting pandas>=1\n",
      "  Using cached pandas-1.2.3-cp37-cp37m-macosx_10_9_x86_64.whl (10.4 MB)\n",
      "Requirement already satisfied: numpy>=1.16.2 in /Users/marigaldina/opt/anaconda3/lib/python3.7/site-packages (from arcgis) (1.19.2)\n",
      "Requirement already satisfied: matplotlib in /Users/marigaldina/opt/anaconda3/lib/python3.7/site-packages (from arcgis) (3.2.1)\n",
      "Collecting keyring>=19\n",
      "  Using cached keyring-23.0.0-py3-none-any.whl (32 kB)\n",
      "Processing /Users/marigaldina/Library/Caches/pip/wheels/5b/cd/1a/89938145094db5176b12e23b6668aeadde56beae773203ba0f/lerc-0.1.0-py3-none-any.whl\n",
      "Collecting ujson>=3\n",
      "  Using cached ujson-4.0.2-cp37-cp37m-macosx_10_14_x86_64.whl (45 kB)\n",
      "Requirement already satisfied: jupyterlab in /Users/marigaldina/opt/anaconda3/lib/python3.7/site-packages (from arcgis) (1.1.4)\n",
      "Collecting python-certifi-win32\n",
      "  Using cached python_certifi_win32-1.6-py2.py3-none-any.whl (7.2 kB)\n",
      "Processing /Users/marigaldina/Library/Caches/pip/wheels/43/f8/87/53c8cd41545ba20e536ea29a8fcb5431b5f477ca50d5dffbbe/pyshp-2.1.3-py3-none-any.whl\n",
      "Requirement already satisfied: requests in /Users/marigaldina/opt/anaconda3/lib/python3.7/site-packages (from arcgis) (2.22.0)\n",
      "Requirement already satisfied: requests-oauthlib in /Users/marigaldina/opt/anaconda3/lib/python3.7/site-packages (from arcgis) (1.3.0)\n",
      "Collecting requests_toolbelt\n",
      "  Using cached requests_toolbelt-0.9.1-py2.py3-none-any.whl (54 kB)\n",
      "Collecting requests_ntlm\n",
      "  Using cached requests_ntlm-1.1.0-py2.py3-none-any.whl (5.7 kB)\n",
      "Requirement already satisfied: nbformat>=4.2.0 in /Users/marigaldina/opt/anaconda3/lib/python3.7/site-packages (from ipywidgets>=7->arcgis) (4.4.0)\n",
      "Requirement already satisfied: ipython>=4.0.0; python_version >= \"3.3\" in /Users/marigaldina/opt/anaconda3/lib/python3.7/site-packages (from ipywidgets>=7->arcgis) (7.8.0)\n",
      "Requirement already satisfied: ipykernel>=4.5.1 in /Users/marigaldina/opt/anaconda3/lib/python3.7/site-packages (from ipywidgets>=7->arcgis) (5.1.2)\n",
      "Requirement already satisfied: traitlets>=4.3.1 in /Users/marigaldina/opt/anaconda3/lib/python3.7/site-packages (from ipywidgets>=7->arcgis) (4.3.3)\n",
      "Requirement already satisfied: notebook>=4.4.1 in /Users/marigaldina/opt/anaconda3/lib/python3.7/site-packages (from widgetsnbextension>=3->arcgis) (6.0.1)\n",
      "Requirement already satisfied: python-dateutil>=2.7.3 in /Users/marigaldina/opt/anaconda3/lib/python3.7/site-packages (from pandas>=1->arcgis) (2.8.0)\n",
      "Requirement already satisfied: pytz>=2017.3 in /Users/marigaldina/opt/anaconda3/lib/python3.7/site-packages (from pandas>=1->arcgis) (2019.3)\n",
      "Requirement already satisfied: kiwisolver>=1.0.1 in /Users/marigaldina/opt/anaconda3/lib/python3.7/site-packages (from matplotlib->arcgis) (1.1.0)\n",
      "Requirement already satisfied: cycler>=0.10 in /Users/marigaldina/opt/anaconda3/lib/python3.7/site-packages (from matplotlib->arcgis) (0.10.0)\n",
      "Requirement already satisfied: pyparsing!=2.0.4,!=2.1.2,!=2.1.6,>=2.0.1 in /Users/marigaldina/opt/anaconda3/lib/python3.7/site-packages (from matplotlib->arcgis) (2.4.2)\n",
      "Collecting importlib-metadata>=3.6\n",
      "  Using cached importlib_metadata-3.7.0-py3-none-any.whl (11 kB)\n",
      "Requirement already satisfied: tornado!=6.0.0,!=6.0.1,!=6.0.2 in /Users/marigaldina/opt/anaconda3/lib/python3.7/site-packages (from jupyterlab->arcgis) (6.0.3)\n",
      "Requirement already satisfied: jupyterlab_server~=1.0.0 in /Users/marigaldina/opt/anaconda3/lib/python3.7/site-packages (from jupyterlab->arcgis) (1.0.6)\n",
      "Requirement already satisfied: jinja2>=2.10 in /Users/marigaldina/opt/anaconda3/lib/python3.7/site-packages (from jupyterlab->arcgis) (2.10.3)\n",
      "Requirement already satisfied: wrapt>=1.10.4 in /Users/marigaldina/opt/anaconda3/lib/python3.7/site-packages (from python-certifi-win32->arcgis) (1.11.2)\n",
      "Collecting setuptools-scm\n",
      "  Using cached setuptools_scm-5.0.2-py2.py3-none-any.whl (29 kB)\n",
      "Requirement already satisfied: certifi in /Users/marigaldina/opt/anaconda3/lib/python3.7/site-packages (from python-certifi-win32->arcgis) (2019.9.11)\n",
      "Requirement already satisfied: idna<2.9,>=2.5 in /Users/marigaldina/opt/anaconda3/lib/python3.7/site-packages (from requests->arcgis) (2.8)\n",
      "Requirement already satisfied: urllib3!=1.25.0,!=1.25.1,<1.26,>=1.21.1 in /Users/marigaldina/opt/anaconda3/lib/python3.7/site-packages (from requests->arcgis) (1.24.2)\n",
      "Requirement already satisfied: chardet<3.1.0,>=3.0.2 in /Users/marigaldina/opt/anaconda3/lib/python3.7/site-packages (from requests->arcgis) (3.0.4)\n",
      "Requirement already satisfied: oauthlib>=3.0.0 in /Users/marigaldina/opt/anaconda3/lib/python3.7/site-packages (from requests-oauthlib->arcgis) (3.1.0)\n",
      "Requirement already satisfied: cryptography>=1.3 in /Users/marigaldina/opt/anaconda3/lib/python3.7/site-packages (from requests_ntlm->arcgis) (2.7)\n",
      "Collecting ntlm-auth>=1.0.2\n",
      "  Using cached ntlm_auth-1.5.0-py2.py3-none-any.whl (29 kB)\n",
      "Requirement already satisfied: ipython-genutils in /Users/marigaldina/opt/anaconda3/lib/python3.7/site-packages (from nbformat>=4.2.0->ipywidgets>=7->arcgis) (0.2.0)\n",
      "Requirement already satisfied: jupyter-core in /Users/marigaldina/opt/anaconda3/lib/python3.7/site-packages (from nbformat>=4.2.0->ipywidgets>=7->arcgis) (4.5.0)\n",
      "Requirement already satisfied: jsonschema!=2.5.0,>=2.4 in /Users/marigaldina/opt/anaconda3/lib/python3.7/site-packages (from nbformat>=4.2.0->ipywidgets>=7->arcgis) (3.0.2)\n",
      "Requirement already satisfied: prompt-toolkit<2.1.0,>=2.0.0 in /Users/marigaldina/opt/anaconda3/lib/python3.7/site-packages (from ipython>=4.0.0; python_version >= \"3.3\"->ipywidgets>=7->arcgis) (2.0.10)\n",
      "Requirement already satisfied: pickleshare in /Users/marigaldina/opt/anaconda3/lib/python3.7/site-packages (from ipython>=4.0.0; python_version >= \"3.3\"->ipywidgets>=7->arcgis) (0.7.5)\n",
      "Requirement already satisfied: pexpect; sys_platform != \"win32\" in /Users/marigaldina/opt/anaconda3/lib/python3.7/site-packages (from ipython>=4.0.0; python_version >= \"3.3\"->ipywidgets>=7->arcgis) (4.7.0)\n",
      "Requirement already satisfied: backcall in /Users/marigaldina/opt/anaconda3/lib/python3.7/site-packages (from ipython>=4.0.0; python_version >= \"3.3\"->ipywidgets>=7->arcgis) (0.1.0)\n",
      "Requirement already satisfied: jedi>=0.10 in /Users/marigaldina/opt/anaconda3/lib/python3.7/site-packages (from ipython>=4.0.0; python_version >= \"3.3\"->ipywidgets>=7->arcgis) (0.15.1)\n",
      "Requirement already satisfied: decorator in /Users/marigaldina/opt/anaconda3/lib/python3.7/site-packages (from ipython>=4.0.0; python_version >= \"3.3\"->ipywidgets>=7->arcgis) (4.4.0)\n",
      "Requirement already satisfied: setuptools>=18.5 in /Users/marigaldina/opt/anaconda3/lib/python3.7/site-packages (from ipython>=4.0.0; python_version >= \"3.3\"->ipywidgets>=7->arcgis) (46.0.0)\n",
      "Requirement already satisfied: appnope; sys_platform == \"darwin\" in /Users/marigaldina/opt/anaconda3/lib/python3.7/site-packages (from ipython>=4.0.0; python_version >= \"3.3\"->ipywidgets>=7->arcgis) (0.1.0)\n",
      "Requirement already satisfied: pygments in /Users/marigaldina/opt/anaconda3/lib/python3.7/site-packages (from ipython>=4.0.0; python_version >= \"3.3\"->ipywidgets>=7->arcgis) (2.4.2)\n",
      "Requirement already satisfied: jupyter-client in /Users/marigaldina/opt/anaconda3/lib/python3.7/site-packages (from ipykernel>=4.5.1->ipywidgets>=7->arcgis) (5.3.3)\n",
      "Requirement already satisfied: prometheus-client in /Users/marigaldina/opt/anaconda3/lib/python3.7/site-packages (from notebook>=4.4.1->widgetsnbextension>=3->arcgis) (0.7.1)\n",
      "Requirement already satisfied: pyzmq>=17 in /Users/marigaldina/opt/anaconda3/lib/python3.7/site-packages (from notebook>=4.4.1->widgetsnbextension>=3->arcgis) (18.1.0)\n",
      "Requirement already satisfied: Send2Trash in /Users/marigaldina/opt/anaconda3/lib/python3.7/site-packages (from notebook>=4.4.1->widgetsnbextension>=3->arcgis) (1.5.0)\n",
      "Requirement already satisfied: terminado>=0.8.1 in /Users/marigaldina/opt/anaconda3/lib/python3.7/site-packages (from notebook>=4.4.1->widgetsnbextension>=3->arcgis) (0.8.2)\n",
      "Requirement already satisfied: nbconvert in /Users/marigaldina/opt/anaconda3/lib/python3.7/site-packages (from notebook>=4.4.1->widgetsnbextension>=3->arcgis) (5.6.0)\n"
     ]
    },
    {
     "name": "stdout",
     "output_type": "stream",
     "text": [
      "Requirement already satisfied: typing-extensions>=3.6.4; python_version < \"3.8\" in /Users/marigaldina/opt/anaconda3/lib/python3.7/site-packages (from importlib-metadata>=3.6->keyring>=19->arcgis) (3.7.4.3)\n",
      "Requirement already satisfied: zipp>=0.5 in /Users/marigaldina/opt/anaconda3/lib/python3.7/site-packages (from importlib-metadata>=3.6->keyring>=19->arcgis) (0.6.0)\n",
      "Requirement already satisfied: json5 in /Users/marigaldina/opt/anaconda3/lib/python3.7/site-packages (from jupyterlab_server~=1.0.0->jupyterlab->arcgis) (0.8.5)\n",
      "Requirement already satisfied: MarkupSafe>=0.23 in /Users/marigaldina/opt/anaconda3/lib/python3.7/site-packages (from jinja2>=2.10->jupyterlab->arcgis) (1.1.1)\n",
      "Requirement already satisfied: asn1crypto>=0.21.0 in /Users/marigaldina/opt/anaconda3/lib/python3.7/site-packages (from cryptography>=1.3->requests_ntlm->arcgis) (1.0.1)\n",
      "Requirement already satisfied: cffi!=1.11.3,>=1.8 in /Users/marigaldina/opt/anaconda3/lib/python3.7/site-packages (from cryptography>=1.3->requests_ntlm->arcgis) (1.12.3)\n",
      "Requirement already satisfied: pyrsistent>=0.14.0 in /Users/marigaldina/opt/anaconda3/lib/python3.7/site-packages (from jsonschema!=2.5.0,>=2.4->nbformat>=4.2.0->ipywidgets>=7->arcgis) (0.15.4)\n",
      "Requirement already satisfied: attrs>=17.4.0 in /Users/marigaldina/opt/anaconda3/lib/python3.7/site-packages (from jsonschema!=2.5.0,>=2.4->nbformat>=4.2.0->ipywidgets>=7->arcgis) (19.2.0)\n",
      "Requirement already satisfied: wcwidth in /Users/marigaldina/opt/anaconda3/lib/python3.7/site-packages (from prompt-toolkit<2.1.0,>=2.0.0->ipython>=4.0.0; python_version >= \"3.3\"->ipywidgets>=7->arcgis) (0.1.7)\n",
      "Requirement already satisfied: ptyprocess>=0.5 in /Users/marigaldina/opt/anaconda3/lib/python3.7/site-packages (from pexpect; sys_platform != \"win32\"->ipython>=4.0.0; python_version >= \"3.3\"->ipywidgets>=7->arcgis) (0.6.0)\n",
      "Requirement already satisfied: parso>=0.5.0 in /Users/marigaldina/opt/anaconda3/lib/python3.7/site-packages (from jedi>=0.10->ipython>=4.0.0; python_version >= \"3.3\"->ipywidgets>=7->arcgis) (0.5.1)\n",
      "Requirement already satisfied: bleach in /Users/marigaldina/opt/anaconda3/lib/python3.7/site-packages (from nbconvert->notebook>=4.4.1->widgetsnbextension>=3->arcgis) (3.1.0)\n",
      "Requirement already satisfied: mistune<2,>=0.8.1 in /Users/marigaldina/opt/anaconda3/lib/python3.7/site-packages (from nbconvert->notebook>=4.4.1->widgetsnbextension>=3->arcgis) (0.8.4)\n",
      "Requirement already satisfied: testpath in /Users/marigaldina/opt/anaconda3/lib/python3.7/site-packages (from nbconvert->notebook>=4.4.1->widgetsnbextension>=3->arcgis) (0.4.2)\n",
      "Requirement already satisfied: pandocfilters>=1.4.1 in /Users/marigaldina/opt/anaconda3/lib/python3.7/site-packages (from nbconvert->notebook>=4.4.1->widgetsnbextension>=3->arcgis) (1.4.2)\n",
      "Requirement already satisfied: entrypoints>=0.2.2 in /Users/marigaldina/opt/anaconda3/lib/python3.7/site-packages (from nbconvert->notebook>=4.4.1->widgetsnbextension>=3->arcgis) (0.3)\n",
      "Requirement already satisfied: defusedxml in /Users/marigaldina/opt/anaconda3/lib/python3.7/site-packages (from nbconvert->notebook>=4.4.1->widgetsnbextension>=3->arcgis) (0.6.0)\n",
      "Requirement already satisfied: more-itertools in /Users/marigaldina/opt/anaconda3/lib/python3.7/site-packages (from zipp>=0.5->importlib-metadata>=3.6->keyring>=19->arcgis) (7.2.0)\n",
      "Requirement already satisfied: pycparser in /Users/marigaldina/opt/anaconda3/lib/python3.7/site-packages (from cffi!=1.11.3,>=1.8->cryptography>=1.3->requests_ntlm->arcgis) (2.19)\n",
      "Requirement already satisfied: webencodings in /Users/marigaldina/opt/anaconda3/lib/python3.7/site-packages (from bleach->nbconvert->notebook>=4.4.1->widgetsnbextension>=3->arcgis) (0.5.1)\n",
      "Building wheels for collected packages: arcgis\n",
      "  Building wheel for arcgis (setup.py) ... \u001b[?25ldone\n",
      "\u001b[?25h  Created wheel for arcgis: filename=arcgis-1.8.4-py2.py3-none-any.whl size=3199049 sha256=cb9d8d2a2b9d7cbe86d37c800ccffb9385a0e448f93a85cf3625e097670a1760\n",
      "  Stored in directory: /Users/marigaldina/Library/Caches/pip/wheels/4e/df/aa/6f157832f98f19d0d8d30e554d5979efafa7b150909bdd3f09\n",
      "Successfully built arcgis\n",
      "Installing collected packages: pandas, importlib-metadata, keyring, lerc, ujson, setuptools-scm, python-certifi-win32, pyshp, requests-toolbelt, ntlm-auth, requests-ntlm, arcgis\n",
      "  Attempting uninstall: pandas\n",
      "    Found existing installation: pandas 0.25.1\n",
      "    Uninstalling pandas-0.25.1:\n",
      "      Successfully uninstalled pandas-0.25.1\n",
      "  Attempting uninstall: importlib-metadata\n",
      "    Found existing installation: importlib-metadata 0.23\n",
      "    Uninstalling importlib-metadata-0.23:\n",
      "      Successfully uninstalled importlib-metadata-0.23\n",
      "  Attempting uninstall: keyring\n",
      "    Found existing installation: keyring 18.0.0\n",
      "    Uninstalling keyring-18.0.0:\n",
      "      Successfully uninstalled keyring-18.0.0\n",
      "\u001b[31mERROR: After October 2020 you may experience errors when installing or updating packages. This is because pip will change the way that it resolves dependency conflicts.\n",
      "\n",
      "We recommend you use --use-feature=2020-resolver to test your packages with the new resolver before it becomes the default.\n",
      "\n",
      "spyder 3.3.6 requires pyqt5<5.13; python_version >= \"3\", which is not installed.\n",
      "spyder 3.3.6 requires pyqtwebengine<5.13; python_version >= \"3\", which is not installed.\u001b[0m\n",
      "Successfully installed arcgis-1.8.4 importlib-metadata-3.7.0 keyring-23.0.0 lerc-0.1.0 ntlm-auth-1.5.0 pandas-1.2.3 pyshp-2.1.3 python-certifi-win32-1.6 requests-ntlm-1.1.0 requests-toolbelt-0.9.1 setuptools-scm-5.0.2 ujson-4.0.2\n",
      "\u001b[33mWARNING: You are using pip version 20.2.2; however, version 21.0.1 is available.\n",
      "You should consider upgrading via the '/Users/marigaldina/opt/anaconda3/bin/python -m pip install --upgrade pip' command.\u001b[0m\n"
     ]
    }
   ],
   "source": [
    "!pip install arcgis"
   ]
  },
  {
   "cell_type": "code",
   "execution_count": 6,
   "metadata": {},
   "outputs": [],
   "source": [
    "from arcgis.gis import GIS"
   ]
  },
  {
   "cell_type": "code",
   "execution_count": 7,
   "metadata": {},
   "outputs": [],
   "source": [
    "gis = GIS(\"https://www.arcgis.com\", \"arcgis_python\", \"P@ssword123\")"
   ]
  },
  {
   "cell_type": "code",
   "execution_count": 8,
   "metadata": {},
   "outputs": [],
   "source": [
    "gis = GIS()"
   ]
  },
  {
   "cell_type": "code",
   "execution_count": 18,
   "metadata": {},
   "outputs": [
    {
     "data": {
      "application/vnd.jupyter.widget-view+json": {
       "model_id": "7d2b3f70a76f452ebbd513c53bfe88c8",
       "version_major": 2,
       "version_minor": 0
      },
      "text/plain": [
       "MapView(layout=Layout(height='400px', width='100%'))"
      ]
     },
     "metadata": {},
     "output_type": "display_data"
    },
    {
     "data": {
      "text/html": [
       "<div class=\"map-static-img-preview-b99ec069-ff77-48f4-9d4f-481c8810278c\"><img src=\"\"></img></div>"
      ],
      "text/plain": [
       "<IPython.core.display.HTML object>"
      ]
     },
     "metadata": {},
     "output_type": "display_data"
    },
    {
     "data": {
      "text/html": [
       "<div class=\"map-html-embed-preview-b99ec069-ff77-48f4-9d4f-481c8810278c\"></div>"
      ],
      "text/plain": [
       "<IPython.core.display.HTML object>"
      ]
     },
     "metadata": {},
     "output_type": "display_data"
    }
   ],
   "source": [
    "map1 = gis.map(\"Palm Springs, CA\")\n",
    "display(map1)"
   ]
  },
  {
   "cell_type": "code",
   "execution_count": 10,
   "metadata": {},
   "outputs": [],
   "source": [
    "public_content = gis.content.search(\"Fire\", item_type=\"Feature Layer\", max_items=5)"
   ]
  },
  {
   "cell_type": "code",
   "execution_count": 11,
   "metadata": {},
   "outputs": [
    {
     "data": {
      "text/plain": [
       "[<Item title:\"USA Current Wildfires\" type:Feature Layer Collection owner:esri_livefeeds2>,\n",
       " <Item title:\"Satellite (VIIRS) Thermal Hotspots and Fire Activity\" type:Feature Layer Collection owner:esri_livefeeds2>,\n",
       " <Item title:\"Social Vulnerability 2010\" type:Feature Layer Collection owner:AtlasPublisher>,\n",
       " <Item title:\"Satellite (MODIS) Thermal Hotspots and Fire Activity\" type:Feature Layer Collection owner:esri_livefeeds2>,\n",
       " <Item title:\"All_Bus_Stops_in_Tempe_Transportation\" type:Feature Layer Collection owner:jpreyes3_asu>]"
      ]
     },
     "execution_count": 11,
     "metadata": {},
     "output_type": "execute_result"
    }
   ],
   "source": [
    "public_content"
   ]
  },
  {
   "cell_type": "code",
   "execution_count": 12,
   "metadata": {},
   "outputs": [
    {
     "data": {
      "text/html": [
       "<div class=\"item_container\" style=\"height: auto; overflow: hidden; border: 1px solid #cfcfcf; border-radius: 2px; background: #f6fafa; line-height: 1.21429em; padding: 10px;\">\n",
       "                    <div class=\"item_left\" style=\"width: 210px; float: left;\">\n",
       "                       <a href='https://www.arcgis.com/home/item.html?id=d957997ccee7408287a963600a77f61f' target='_blank'>\n",
       "                        <img src='https://www.arcgis.com/sharing/rest//content/items/d957997ccee7408287a963600a77f61f/info/thumbnail/thumbnail1589394128160.jpeg' class=\"itemThumbnail\">\n",
       "                       </a>\n",
       "                    </div>\n",
       "\n",
       "                    <div class=\"item_right\"     style=\"float: none; width: auto; overflow: hidden;\">\n",
       "                        <a href='https://www.arcgis.com/home/item.html?id=d957997ccee7408287a963600a77f61f' target='_blank'><b>USA Current Wildfires</b>\n",
       "                        </a>\n",
       "                        <br/>This layer shows wildfires that have been updated within the past 7 days in the United States from IRWIN and NIFC information.<img src='https://www.arcgis.com/home/js/jsapi/esri/css/images/item_type_icons/featureshosted16.png' style=\"vertical-align:middle;\">Feature Layer Collection by esri_livefeeds2\n",
       "                        <br/>Last Modified: March 06, 2021\n",
       "                        <br/>101 comments, 80,930,895 views\n",
       "                    </div>\n",
       "                </div>\n",
       "                "
      ],
      "text/plain": [
       "<Item title:\"USA Current Wildfires\" type:Feature Layer Collection owner:esri_livefeeds2>"
      ]
     },
     "metadata": {},
     "output_type": "display_data"
    },
    {
     "data": {
      "text/html": [
       "<div class=\"item_container\" style=\"height: auto; overflow: hidden; border: 1px solid #cfcfcf; border-radius: 2px; background: #f6fafa; line-height: 1.21429em; padding: 10px;\">\n",
       "                    <div class=\"item_left\" style=\"width: 210px; float: left;\">\n",
       "                       <a href='https://www.arcgis.com/home/item.html?id=dece90af1a0242dcbf0ca36d30276aa3' target='_blank'>\n",
       "                        <img src='https://www.arcgis.com/sharing/rest//content/items/dece90af1a0242dcbf0ca36d30276aa3/info/thumbnail/thumbnail1586453756149.png' class=\"itemThumbnail\">\n",
       "                       </a>\n",
       "                    </div>\n",
       "\n",
       "                    <div class=\"item_right\"     style=\"float: none; width: auto; overflow: hidden;\">\n",
       "                        <a href='https://www.arcgis.com/home/item.html?id=dece90af1a0242dcbf0ca36d30276aa3' target='_blank'><b>Satellite (VIIRS) Thermal Hotspots and Fire Activity</b>\n",
       "                        </a>\n",
       "                        <br/>Thermal activity detected by the VIIRS sensors on the NOAA/NASA Suomi NPP and NOAA-20 satellites during the last 7 days.<img src='https://www.arcgis.com/home/js/jsapi/esri/css/images/item_type_icons/featureshosted16.png' style=\"vertical-align:middle;\">Feature Layer Collection by esri_livefeeds2\n",
       "                        <br/>Last Modified: March 06, 2021\n",
       "                        <br/>33 comments, 41,087,897 views\n",
       "                    </div>\n",
       "                </div>\n",
       "                "
      ],
      "text/plain": [
       "<Item title:\"Satellite (VIIRS) Thermal Hotspots and Fire Activity\" type:Feature Layer Collection owner:esri_livefeeds2>"
      ]
     },
     "metadata": {},
     "output_type": "display_data"
    },
    {
     "data": {
      "text/html": [
       "<div class=\"item_container\" style=\"height: auto; overflow: hidden; border: 1px solid #cfcfcf; border-radius: 2px; background: #f6fafa; line-height: 1.21429em; padding: 10px;\">\n",
       "                    <div class=\"item_left\" style=\"width: 210px; float: left;\">\n",
       "                       <a href='https://www.arcgis.com/home/item.html?id=eee333118bd740268ba1cad0b78f83d6' target='_blank'>\n",
       "                        <img src='https://www.arcgis.com/sharing/rest//content/items/eee333118bd740268ba1cad0b78f83d6/info/thumbnail/ago_downloaded2.png' class=\"itemThumbnail\">\n",
       "                       </a>\n",
       "                    </div>\n",
       "\n",
       "                    <div class=\"item_right\"     style=\"float: none; width: auto; overflow: hidden;\">\n",
       "                        <a href='https://www.arcgis.com/home/item.html?id=eee333118bd740268ba1cad0b78f83d6' target='_blank'><b>Social Vulnerability 2010</b>\n",
       "                        </a>\n",
       "                        <br/>This map shows a simple summary of social vulnerability of populations in the United States.<img src='https://www.arcgis.com/home/js/jsapi/esri/css/images/item_type_icons/featureshosted16.png' style=\"vertical-align:middle;\">Feature Layer Collection by AtlasPublisher\n",
       "                        <br/>Last Modified: July 19, 2018\n",
       "                        <br/>0 comments, 335,738 views\n",
       "                    </div>\n",
       "                </div>\n",
       "                "
      ],
      "text/plain": [
       "<Item title:\"Social Vulnerability 2010\" type:Feature Layer Collection owner:AtlasPublisher>"
      ]
     },
     "metadata": {},
     "output_type": "display_data"
    },
    {
     "data": {
      "text/html": [
       "<div class=\"item_container\" style=\"height: auto; overflow: hidden; border: 1px solid #cfcfcf; border-radius: 2px; background: #f6fafa; line-height: 1.21429em; padding: 10px;\">\n",
       "                    <div class=\"item_left\" style=\"width: 210px; float: left;\">\n",
       "                       <a href='https://www.arcgis.com/home/item.html?id=b8f4033069f141729ffb298b7418b653' target='_blank'>\n",
       "                        <img src='https://www.arcgis.com/sharing/rest//content/items/b8f4033069f141729ffb298b7418b653/info/thumbnail/thumbnail1560896788298.jpeg' class=\"itemThumbnail\">\n",
       "                       </a>\n",
       "                    </div>\n",
       "\n",
       "                    <div class=\"item_right\"     style=\"float: none; width: auto; overflow: hidden;\">\n",
       "                        <a href='https://www.arcgis.com/home/item.html?id=b8f4033069f141729ffb298b7418b653' target='_blank'><b>Satellite (MODIS) Thermal Hotspots and Fire Activity</b>\n",
       "                        </a>\n",
       "                        <br/>Thermal activity detected by the MODIS sensors on the NASA Aqua and Terra satellites during the last 48 hours.<img src='https://www.arcgis.com/home/js/jsapi/esri/css/images/item_type_icons/featureshosted16.png' style=\"vertical-align:middle;\">Feature Layer Collection by esri_livefeeds2\n",
       "                        <br/>Last Modified: March 06, 2021\n",
       "                        <br/>12 comments, 38,844,026 views\n",
       "                    </div>\n",
       "                </div>\n",
       "                "
      ],
      "text/plain": [
       "<Item title:\"Satellite (MODIS) Thermal Hotspots and Fire Activity\" type:Feature Layer Collection owner:esri_livefeeds2>"
      ]
     },
     "metadata": {},
     "output_type": "display_data"
    },
    {
     "data": {
      "text/html": [
       "<div class=\"item_container\" style=\"height: auto; overflow: hidden; border: 1px solid #cfcfcf; border-radius: 2px; background: #f6fafa; line-height: 1.21429em; padding: 10px;\">\n",
       "                    <div class=\"item_left\" style=\"width: 210px; float: left;\">\n",
       "                       <a href='https://www.arcgis.com/home/item.html?id=59aa1171201f4a6e934fc691e72b7070' target='_blank'>\n",
       "                        <img src='https://www.arcgis.com/sharing/rest//content/items/59aa1171201f4a6e934fc691e72b7070/info/thumbnail/thumbnail.png' class=\"itemThumbnail\">\n",
       "                       </a>\n",
       "                    </div>\n",
       "\n",
       "                    <div class=\"item_right\"     style=\"float: none; width: auto; overflow: hidden;\">\n",
       "                        <a href='https://www.arcgis.com/home/item.html?id=59aa1171201f4a6e934fc691e72b7070' target='_blank'><b>All_Bus_Stops_in_Tempe_Transportation</b>\n",
       "                        </a>\n",
       "                        <br/>Fire Fly symbol #2<img src='https://www.arcgis.com/home/js/jsapi/esri/css/images/item_type_icons/featureshosted16.png' style=\"vertical-align:middle;\">Feature Layer Collection by jpreyes3_asu\n",
       "                        <br/>Last Modified: July 08, 2018\n",
       "                        <br/>0 comments, 186 views\n",
       "                    </div>\n",
       "                </div>\n",
       "                "
      ],
      "text/plain": [
       "<Item title:\"All_Bus_Stops_in_Tempe_Transportation\" type:Feature Layer Collection owner:jpreyes3_asu>"
      ]
     },
     "metadata": {},
     "output_type": "display_data"
    }
   ],
   "source": [
    "from IPython.display import display\n",
    "for item in public_content:\n",
    "    display(item)"
   ]
  },
  {
   "cell_type": "code",
   "execution_count": 13,
   "metadata": {},
   "outputs": [
    {
     "data": {
      "text/html": [
       "<div class=\"item_container\" style=\"height: auto; overflow: hidden; border: 1px solid #cfcfcf; border-radius: 2px; background: #f6fafa; line-height: 1.21429em; padding: 10px;\">\n",
       "                    <div class=\"item_left\" style=\"width: 210px; float: left;\">\n",
       "                       <a href='https://www.arcgis.com/home/item.html?id=d957997ccee7408287a963600a77f61f' target='_blank'>\n",
       "                        <img src='https://www.arcgis.com/sharing/rest//content/items/d957997ccee7408287a963600a77f61f/info/thumbnail/thumbnail1589394128160.jpeg' class=\"itemThumbnail\">\n",
       "                       </a>\n",
       "                    </div>\n",
       "\n",
       "                    <div class=\"item_right\"     style=\"float: none; width: auto; overflow: hidden;\">\n",
       "                        <a href='https://www.arcgis.com/home/item.html?id=d957997ccee7408287a963600a77f61f' target='_blank'><b>USA Current Wildfires</b>\n",
       "                        </a>\n",
       "                        <br/>This layer shows wildfires that have been updated within the past 7 days in the United States from IRWIN and NIFC information.<img src='https://www.arcgis.com/home/js/jsapi/esri/css/images/item_type_icons/featureshosted16.png' style=\"vertical-align:middle;\">Feature Layer Collection by esri_livefeeds2\n",
       "                        <br/>Last Modified: March 06, 2021\n",
       "                        <br/>101 comments, 80,930,895 views\n",
       "                    </div>\n",
       "                </div>\n",
       "                "
      ],
      "text/plain": [
       "<Item title:\"USA Current Wildfires\" type:Feature Layer Collection owner:esri_livefeeds2>"
      ]
     },
     "metadata": {},
     "output_type": "display_data"
    }
   ],
   "source": [
    "example_item = public_content[0]\n",
    "display(example_item)"
   ]
  },
  {
   "cell_type": "code",
   "execution_count": 15,
   "metadata": {},
   "outputs": [
    {
     "data": {
      "application/vnd.jupyter.widget-view+json": {
       "model_id": "2e247ebe48af4b11b7f25fb214b743ea",
       "version_major": 2,
       "version_minor": 0
      },
      "text/plain": [
       "MapView(layout=Layout(height='400px', width='100%'))"
      ]
     },
     "metadata": {},
     "output_type": "display_data"
    },
    {
     "data": {
      "text/html": [
       "<div class=\"map-static-img-preview-db56904a-d70e-4e22-a9a5-37a48dfde574\"><img src=\"\"></img></div>"
      ],
      "text/plain": [
       "<IPython.core.display.HTML object>"
      ]
     },
     "metadata": {},
     "output_type": "display_data"
    },
    {
     "data": {
      "text/html": [
       "<div class=\"map-html-embed-preview-db56904a-d70e-4e22-a9a5-37a48dfde574\"></div>"
      ],
      "text/plain": [
       "<IPython.core.display.HTML object>"
      ]
     },
     "metadata": {},
     "output_type": "display_data"
    }
   ],
   "source": [
    "#Create a new map object\n",
    "map1 = gis.map()\n",
    "#Focus the map to the part of the world containing the example item\n",
    "map1.extent = example_item.extent\n",
    "#Display the map\n",
    "display(map1)"
   ]
  },
  {
   "cell_type": "code",
   "execution_count": 16,
   "metadata": {},
   "outputs": [],
   "source": [
    "\n",
    "map1.add_layer(example_item)"
   ]
  },
  {
   "cell_type": "code",
   "execution_count": null,
   "metadata": {},
   "outputs": [],
   "source": []
  }
 ],
 "metadata": {
  "kernelspec": {
   "display_name": "Python 3",
   "language": "python",
   "name": "python3"
  },
  "language_info": {
   "codemirror_mode": {
    "name": "ipython",
    "version": 3
   },
   "file_extension": ".py",
   "mimetype": "text/x-python",
   "name": "python",
   "nbconvert_exporter": "python",
   "pygments_lexer": "ipython3",
   "version": "3.7.4"
  }
 },
 "nbformat": 4,
 "nbformat_minor": 2
}
