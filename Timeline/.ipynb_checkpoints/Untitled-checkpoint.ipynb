{
 "cells": [
  {
   "cell_type": "code",
   "execution_count": 1,
   "metadata": {},
   "outputs": [
    {
     "ename": "ImportError",
     "evalue": "cannot import name 'mean_absolute_percentage_error' from 'sklearn.metrics' (/Users/marigaldina/opt/anaconda3/lib/python3.7/site-packages/sklearn/metrics/__init__.py)",
     "output_type": "error",
     "traceback": [
      "\u001b[0;31m---------------------------------------------------------------------------\u001b[0m",
      "\u001b[0;31mImportError\u001b[0m                               Traceback (most recent call last)",
      "\u001b[0;32m<ipython-input-1-9e0087a3f4c0>\u001b[0m in \u001b[0;36m<module>\u001b[0;34m\u001b[0m\n\u001b[1;32m      5\u001b[0m \u001b[0;32mimport\u001b[0m \u001b[0mdatetime\u001b[0m \u001b[0;32mas\u001b[0m \u001b[0mdt\u001b[0m\u001b[0;34m\u001b[0m\u001b[0;34m\u001b[0m\u001b[0m\n\u001b[1;32m      6\u001b[0m \u001b[0;32mimport\u001b[0m \u001b[0mseaborn\u001b[0m \u001b[0;32mas\u001b[0m \u001b[0msns\u001b[0m\u001b[0;34m\u001b[0m\u001b[0;34m\u001b[0m\u001b[0m\n\u001b[0;32m----> 7\u001b[0;31m \u001b[0;32mfrom\u001b[0m \u001b[0msklearn\u001b[0m\u001b[0;34m.\u001b[0m\u001b[0mmetrics\u001b[0m \u001b[0;32mimport\u001b[0m \u001b[0mmean_absolute_error\u001b[0m\u001b[0;34m,\u001b[0m \u001b[0mmean_absolute_percentage_error\u001b[0m\u001b[0;34m\u001b[0m\u001b[0;34m\u001b[0m\u001b[0m\n\u001b[0m\u001b[1;32m      8\u001b[0m \u001b[0msns\u001b[0m\u001b[0;34m.\u001b[0m\u001b[0mset\u001b[0m\u001b[0;34m(\u001b[0m\u001b[0;34m)\u001b[0m\u001b[0;34m\u001b[0m\u001b[0;34m\u001b[0m\u001b[0m\n",
      "\u001b[0;31mImportError\u001b[0m: cannot import name 'mean_absolute_percentage_error' from 'sklearn.metrics' (/Users/marigaldina/opt/anaconda3/lib/python3.7/site-packages/sklearn/metrics/__init__.py)"
     ]
    }
   ],
   "source": [
    "import math\n",
    "import pandas as pd\n",
    "import numpy as np\n",
    "import matplotlib.pyplot as plt\n",
    "import datetime as dt\n",
    "import seaborn as sns\n",
    "from sklearn.metrics import mean_absolute_error, mean_absolute_percentage_error\n",
    "sns.set()\n"
   ]
  },
  {
   "cell_type": "code",
   "execution_count": null,
   "metadata": {},
   "outputs": [],
   "source": [
    "data = pd.read_excel('mean_salary.csv')\n",
    "data.head()"
   ]
  },
  {
   "cell_type": "code",
   "execution_count": null,
   "metadata": {},
   "outputs": [],
   "source": [
    "salary_series = pd.Series()\n",
    "\n",
    "for _, row in data.drop('year', axis=1).iterrows():\n",
    "    salary_series = salary_series.append(pd.Series(row.values))\n",
    "\n",
    "salary_series.index = pd.date_range('2013-01-01', freq='M', periods=6*12)\n",
    "\n",
    "salary_series.plot(figsize=(12, 6), linewidth=2, fontsize=13)\n",
    "plt.title('Mean value of salary by month', fontsize=15)\n",
    "plt.show()"
   ]
  },
  {
   "cell_type": "code",
   "execution_count": null,
   "metadata": {},
   "outputs": [],
   "source": [
    "train_series = salary_series[salary_series.index.year<2018]\n",
    "test_series = salary_series[salary_series.index.year==2018]"
   ]
  },
  {
   "cell_type": "code",
   "execution_count": 2,
   "metadata": {},
   "outputs": [],
   "source": [
    "def get_matrix_and_vector(period_i):\n",
    "    l = len(period_i) - 1\n",
    "    N = l\n",
    "        \n",
    "    y = np.empty((0,))\n",
    "    matrix = np.empty((0, N+1))\n",
    "    \n",
    "    for t in range(0, l+1):\n",
    "        row = np.array([.5])\n",
    "        \n",
    "        for k in range(1, N+1):\n",
    "            row = np.append(row, cos(k, t, l))\n",
    "\n",
    "        row = np.reshape(row, (1, N+1))\n",
    "        matrix = np.append(matrix, row, axis=0)\n",
    "        y = np.append(y, period_i[t])\n",
    " \n",
    "    return matrix, y"
   ]
  },
  {
   "cell_type": "code",
   "execution_count": 3,
   "metadata": {},
   "outputs": [],
   "source": [
    "def solve_system(M, b):\n",
    "    \n",
    "    assert np.linalg.det(M) != 0\n",
    "    return np.linalg.solve(M, b)"
   ]
  },
  {
   "cell_type": "code",
   "execution_count": 4,
   "metadata": {},
   "outputs": [],
   "source": [
    "def get_matrix_from_series(input_series, m, l):\n",
    "    return input_series.values.reshape(m, l)"
   ]
  },
  {
   "cell_type": "code",
   "execution_count": 5,
   "metadata": {},
   "outputs": [],
   "source": [
    "def get_delay_matrix(input_vector, p):\n",
    "    \n",
    "    input_vector_copy = np.copy(input_vector)\n",
    "    \n",
    "    m = input_vector_copy.shape[0] % p\n",
    "    if m != 0:\n",
    "        input_vector_copy = np.delete(input_vector_copy, range(m))\n",
    "    row_dim = input_vector_copy.shape[0] // p\n",
    "    col_dim = p\n",
    "\n",
    "    delay_matrix = np.resize(input_vector_copy, \n",
    "                             new_shape=(row_dim, col_dim)).T    \n",
    "    \n",
    "    return delay_matrix"
   ]
  },
  {
   "cell_type": "code",
   "execution_count": 6,
   "metadata": {},
   "outputs": [],
   "source": [
    "def find_nearest(row, p):\n",
    "    neighbors_cnt = 2 * p + 1\n",
    "    \n",
    "    last_element = row[-1]\n",
    "    all_neighbors = row[:-1]\n",
    "    idx = set(np.argsort(np.abs(all_neighbors-last_element))[:neighbors_cnt])\n",
    "        \n",
    "    return idx"
   ]
  },
  {
   "cell_type": "code",
   "execution_count": 7,
   "metadata": {},
   "outputs": [],
   "source": [
    "\n",
    "def predict_by_one_step(input_vector, p):\n",
    "    delay_matrix = get_delay_matrix(input_vector, p)\n",
    "    last_row = delay_matrix[-1,:]\n",
    "    nearest_neighbors_indexes = find_nearest(last_row, p)\n",
    "    \n",
    "    y = np.empty((0,))\n",
    "    X = np.empty((0, p+1))\n",
    "    for index in nearest_neighbors_indexes:\n",
    "        y = np.append(y, delay_matrix[0, index+1])\n",
    "        row = np.append(np.array([1]), delay_matrix[:, index])\n",
    "        row = np.reshape(row, (1, p+1))\n",
    "        X = np.append(X, row, axis=0)\n",
    "    \n",
    "    coef = np.dot(np.dot(np.linalg.inv(np.dot(X.T, X)), X.T), y)\n",
    "    prediction = sum(np.append(np.array([1]), delay_matrix[:, -1]) * coef)\n",
    "    \n",
    "    return prediction"
   ]
  },
  {
   "cell_type": "code",
   "execution_count": null,
   "metadata": {},
   "outputs": [],
   "source": []
  }
 ],
 "metadata": {
  "kernelspec": {
   "display_name": "Python 3",
   "language": "python",
   "name": "python3"
  },
  "language_info": {
   "codemirror_mode": {
    "name": "ipython",
    "version": 3
   },
   "file_extension": ".py",
   "mimetype": "text/x-python",
   "name": "python",
   "nbconvert_exporter": "python",
   "pygments_lexer": "ipython3",
   "version": "3.7.4"
  }
 },
 "nbformat": 4,
 "nbformat_minor": 2
}
